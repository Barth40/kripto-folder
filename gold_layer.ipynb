{
 "cells": [
  {
   "cell_type": "code",
   "execution_count": 0,
   "metadata": {
    "application/vnd.databricks.v1+cell": {
     "cellMetadata": {
      "byteLimit": 2048000,
      "rowLimit": 10000
     },
     "inputWidgets": {},
     "nuid": "5bf5caff-52e3-426b-b816-e4b80da418b4",
     "showTitle": false,
     "tableResultSettingsMap": {},
     "title": ""
    }
   },
   "outputs": [],
   "source": [
    "\n",
    "bronzepath = \"abfss://kriptocontainer002@kriptostorage003.dfs.core.windows.net/bronze\"\n",
    "silver_path = \"abfss://silver@kriptostorage003.dfs.core.windows.net/silver_kripto\"\n",
    "gold_path = \"abfss://gold@kriptostorage003.dfs.core.windows.net/\""
   ]
  },
  {
   "cell_type": "markdown",
   "metadata": {
    "application/vnd.databricks.v1+cell": {
     "cellMetadata": {},
     "inputWidgets": {},
     "nuid": "a17d2917-b8cc-4906-95c8-47ae5b8681bd",
     "showTitle": false,
     "tableResultSettingsMap": {},
     "title": ""
    }
   },
   "source": [
    "Creating CATALOG,SCHEMA AND TABLES"
   ]
  },
  {
   "cell_type": "code",
   "execution_count": 0,
   "metadata": {
    "application/vnd.databricks.v1+cell": {
     "cellMetadata": {
      "byteLimit": 2048000,
      "rowLimit": 10000
     },
     "inputWidgets": {},
     "nuid": "43e3c93b-0cbf-4114-8af1-3bcb80e4b994",
     "showTitle": false,
     "tableResultSettingsMap": {},
     "title": ""
    }
   },
   "outputs": [
    {
     "data": {
      "text/plain": [
       "DataFrame[catalog: string]"
      ]
     },
     "execution_count": 2,
     "metadata": {},
     "output_type": "execute_result"
    }
   ],
   "source": [
    "spark.sql(\"SHOW CATALOGS\")"
   ]
  },
  {
   "cell_type": "code",
   "execution_count": 0,
   "metadata": {
    "application/vnd.databricks.v1+cell": {
     "cellMetadata": {
      "byteLimit": 2048000,
      "implicitDf": true,
      "rowLimit": 10000
     },
     "inputWidgets": {},
     "nuid": "937713da-8390-4c1d-827a-438f760b1461",
     "showTitle": false,
     "tableResultSettingsMap": {},
     "title": ""
    }
   },
   "outputs": [
    {
     "data": {
      "text/html": [
       "<style scoped>\n",
       "  .table-result-container {\n",
       "    max-height: 300px;\n",
       "    overflow: auto;\n",
       "  }\n",
       "  table, th, td {\n",
       "    border: 1px solid black;\n",
       "    border-collapse: collapse;\n",
       "  }\n",
       "  th, td {\n",
       "    padding: 5px;\n",
       "  }\n",
       "  th {\n",
       "    text-align: left;\n",
       "  }\n",
       "</style><div class='table-result-container'><table class='table-result'><thead style='background-color: white'><tr></tr></thead><tbody></tbody></table></div>"
      ]
     },
     "metadata": {
      "application/vnd.databricks.v1+output": {
       "addedWidgets": {},
       "aggData": [],
       "aggError": "",
       "aggOverflow": false,
       "aggSchema": [],
       "aggSeriesLimitReached": false,
       "aggType": "",
       "arguments": {},
       "columnCustomDisplayInfos": {},
       "data": [],
       "datasetInfos": [],
       "dbfsResultPath": null,
       "isJsonSchema": true,
       "metadata": {
        "dataframeName": null
       },
       "overflow": false,
       "plotOptions": {
        "customPlotOptions": {},
        "displayType": "table",
        "pivotAggregation": null,
        "pivotColumns": null,
        "xColumns": null,
        "yColumns": null
       },
       "removedWidgets": [],
       "schema": [],
       "type": "table"
      }
     },
     "output_type": "display_data"
    }
   ],
   "source": [
    "%sql CREATE CATALOG IF NOT EXISTS ctl_Krypto;"
   ]
  },
  {
   "cell_type": "code",
   "execution_count": 0,
   "metadata": {
    "application/vnd.databricks.v1+cell": {
     "cellMetadata": {
      "byteLimit": 2048000,
      "implicitDf": true,
      "rowLimit": 10000
     },
     "inputWidgets": {},
     "nuid": "30b78bc8-79a5-48e4-af87-42a86c54e78f",
     "showTitle": false,
     "tableResultSettingsMap": {},
     "title": ""
    }
   },
   "outputs": [
    {
     "data": {
      "text/html": [
       "<style scoped>\n",
       "  .table-result-container {\n",
       "    max-height: 300px;\n",
       "    overflow: auto;\n",
       "  }\n",
       "  table, th, td {\n",
       "    border: 1px solid black;\n",
       "    border-collapse: collapse;\n",
       "  }\n",
       "  th, td {\n",
       "    padding: 5px;\n",
       "  }\n",
       "  th {\n",
       "    text-align: left;\n",
       "  }\n",
       "</style><div class='table-result-container'><table class='table-result'><thead style='background-color: white'><tr></tr></thead><tbody></tbody></table></div>"
      ]
     },
     "metadata": {
      "application/vnd.databricks.v1+output": {
       "addedWidgets": {},
       "aggData": [],
       "aggError": "",
       "aggOverflow": false,
       "aggSchema": [],
       "aggSeriesLimitReached": false,
       "aggType": "",
       "arguments": {},
       "columnCustomDisplayInfos": {},
       "data": [],
       "datasetInfos": [],
       "dbfsResultPath": null,
       "isJsonSchema": true,
       "metadata": {
        "dataframeName": null
       },
       "overflow": false,
       "plotOptions": {
        "customPlotOptions": {},
        "displayType": "table",
        "pivotAggregation": null,
        "pivotColumns": null,
        "xColumns": null,
        "yColumns": null
       },
       "removedWidgets": [],
       "schema": [],
       "type": "table"
      }
     },
     "output_type": "display_data"
    }
   ],
   "source": [
    "%sql\n",
    "CREATE SCHEMA IF NOT EXISTS ctl_krypto.staging_schema;"
   ]
  },
  {
   "cell_type": "code",
   "execution_count": 0,
   "metadata": {
    "application/vnd.databricks.v1+cell": {
     "cellMetadata": {
      "byteLimit": 2048000,
      "rowLimit": 10000
     },
     "inputWidgets": {},
     "nuid": "3bf4a526-6137-4534-837e-49ea3dbf28d1",
     "showTitle": false,
     "tableResultSettingsMap": {},
     "title": ""
    }
   },
   "outputs": [],
   "source": [
    "silver_path = \"abfss://silver@kriptostorage003.dfs.core.windows.net/silver_kripto\"\n",
    "gold_path = \"abfss://gold@kriptostorage003.dfs.core.windows.net/\""
   ]
  },
  {
   "cell_type": "code",
   "execution_count": 0,
   "metadata": {
    "application/vnd.databricks.v1+cell": {
     "cellMetadata": {
      "byteLimit": 2048000,
      "rowLimit": 10000
     },
     "inputWidgets": {},
     "nuid": "fea5ffe3-ffe1-4b8a-bd66-f868273f06b7",
     "showTitle": false,
     "tableResultSettingsMap": {},
     "title": ""
    }
   },
   "outputs": [
    {
     "name": "stdout",
     "output_type": "stream",
     "text": [
      "abfss://silver@kriptostorage003.dfs.core.windows.net/silver_kripto\n"
     ]
    }
   ],
   "source": [
    "print(silver_path)"
   ]
  },
  {
   "cell_type": "code",
   "execution_count": 0,
   "metadata": {
    "application/vnd.databricks.v1+cell": {
     "cellMetadata": {
      "byteLimit": 2048000,
      "rowLimit": 10000
     },
     "inputWidgets": {},
     "nuid": "737e4b09-4e31-4997-aaca-1150043972f1",
     "showTitle": false,
     "tableResultSettingsMap": {},
     "title": ""
    }
   },
   "outputs": [
    {
     "name": "stdout",
     "output_type": "stream",
     "text": [
      "_delta_log/\n",
      "part-00000-140b6dc4-1bd4-4e5b-89a9-98f66e3fd6a4-c000.snappy.parquet\n",
      "part-00000-31488c4f-12cc-4aa1-8bca-815335c63762-c000.snappy.parquet\n",
      "part-00000-3218ae9a-e469-48fd-9563-36ca472d74ff-c000.snappy.parquet\n",
      "part-00000-740f40ce-4bc9-4d99-8b3d-753454f4ac79-c000.snappy.parquet\n",
      "part-00000-a8b14c57-7370-4b38-ad40-07d44646f33b-c000.snappy.parquet\n",
      "part-00000-b186f81a-cd6d-471a-9933-0aee967225d1-c000.snappy.parquet\n",
      "part-00000-bae37809-4df7-445f-9c1e-9bfc42b96d23-c000.snappy.parquet\n",
      "part-00000-fdb9e9d8-c8a3-4333-aa12-a0a8074655d8-c000.snappy.parquet\n",
      "part-00001-25a28019-c8ac-4ad1-9e62-bc8b33c8d5c0-c000.snappy.parquet\n",
      "part-00001-5716ef2f-6b3e-4d8b-8f8e-f91880358b78-c000.snappy.parquet\n",
      "part-00001-6207ddaa-1e35-45d2-ba23-a0874da9d518-c000.snappy.parquet\n",
      "part-00001-89c2b34d-8a74-4a1e-9d6f-ab73ac2b20e9-c000.snappy.parquet\n",
      "part-00001-9fd7d6a6-432a-4369-b640-3fba73e1c890-c000.snappy.parquet\n",
      "part-00001-baf5f104-2469-45e3-9b34-dee820ff5105-c000.snappy.parquet\n",
      "part-00002-20fd8598-3430-42d7-b7b2-ebe8df70b857-c000.snappy.parquet\n",
      "part-00002-8931aa16-5a12-45d8-af9d-639809cc5733-c000.snappy.parquet\n",
      "part-00002-9c6e2c48-0af8-4c21-956f-72dab01f113e-c000.snappy.parquet\n",
      "part-00002-a10584e6-a18c-42c7-9be1-b90b634e6abf-c000.snappy.parquet\n",
      "part-00002-ceddca0b-3e5e-46c2-8618-96f8764a94bf-c000.snappy.parquet\n",
      "part-00002-e3328af5-d773-4ea0-978e-c5d2cd44ae76-c000.snappy.parquet\n",
      "part-00003-6199ca79-dbdc-42a8-afde-d1da89bf51de-c000.snappy.parquet\n",
      "part-00003-627e6a66-0193-405f-b633-c952c2450350-c000.snappy.parquet\n",
      "part-00003-653a05d3-960b-4c43-a757-461691daeb2b-c000.snappy.parquet\n",
      "part-00003-7ab6fc65-96fd-442a-960d-b46623f3b27d-c000.snappy.parquet\n",
      "part-00003-a017bf8c-69e1-4812-9f93-a37846e48736-c000.snappy.parquet\n",
      "part-00003-cd380297-a19e-4d4a-b5a9-e0e88848b7d6-c000.snappy.parquet\n"
     ]
    }
   ],
   "source": [
    "path = \"abfss://silver@kriptostorage003.dfs.core.windows.net/silver_kripto\"\n",
    "\n",
    "files = dbutils.fs.ls(path)\n",
    "for f in files:\n",
    "    print(f.name)\n"
   ]
  },
  {
   "cell_type": "code",
   "execution_count": 0,
   "metadata": {
    "application/vnd.databricks.v1+cell": {
     "cellMetadata": {
      "byteLimit": 2048000,
      "implicitDf": true,
      "rowLimit": 10000
     },
     "inputWidgets": {},
     "nuid": "edcc8d21-52c6-4bfb-aa9e-dc13fe63764f",
     "showTitle": false,
     "tableResultSettingsMap": {},
     "title": ""
    }
   },
   "outputs": [
    {
     "data": {
      "text/html": [
       "<style scoped>\n",
       "  .table-result-container {\n",
       "    max-height: 300px;\n",
       "    overflow: auto;\n",
       "  }\n",
       "  table, th, td {\n",
       "    border: 1px solid black;\n",
       "    border-collapse: collapse;\n",
       "  }\n",
       "  th, td {\n",
       "    padding: 5px;\n",
       "  }\n",
       "  th {\n",
       "    text-align: left;\n",
       "  }\n",
       "</style><div class='table-result-container'><table class='table-result'><thead style='background-color: white'><tr></tr></thead><tbody></tbody></table></div>"
      ]
     },
     "metadata": {
      "application/vnd.databricks.v1+output": {
       "addedWidgets": {},
       "aggData": [],
       "aggError": "",
       "aggOverflow": false,
       "aggSchema": [],
       "aggSeriesLimitReached": false,
       "aggType": "",
       "arguments": {},
       "columnCustomDisplayInfos": {},
       "data": [],
       "datasetInfos": [],
       "dbfsResultPath": null,
       "isJsonSchema": true,
       "metadata": {
        "dataframeName": null
       },
       "overflow": false,
       "plotOptions": {
        "customPlotOptions": {},
        "displayType": "table",
        "pivotAggregation": null,
        "pivotColumns": null,
        "xColumns": null,
        "yColumns": null
       },
       "removedWidgets": [],
       "schema": [],
       "type": "table"
      }
     },
     "output_type": "display_data"
    }
   ],
   "source": [
    "%sql\n",
    "DROP TABLE IF EXISTS ctl_krypto.staging_schema.raw_silver;"
   ]
  },
  {
   "cell_type": "code",
   "execution_count": 0,
   "metadata": {
    "application/vnd.databricks.v1+cell": {
     "cellMetadata": {
      "byteLimit": 2048000,
      "implicitDf": true,
      "rowLimit": 10000
     },
     "inputWidgets": {},
     "nuid": "f9f5ed46-62fc-40ff-b33f-17fe250e78c3",
     "showTitle": false,
     "tableResultSettingsMap": {},
     "title": ""
    }
   },
   "outputs": [
    {
     "data": {
      "text/html": [
       "<style scoped>\n",
       "  .table-result-container {\n",
       "    max-height: 300px;\n",
       "    overflow: auto;\n",
       "  }\n",
       "  table, th, td {\n",
       "    border: 1px solid black;\n",
       "    border-collapse: collapse;\n",
       "  }\n",
       "  th, td {\n",
       "    padding: 5px;\n",
       "  }\n",
       "  th {\n",
       "    text-align: left;\n",
       "  }\n",
       "</style><div class='table-result-container'><table class='table-result'><thead style='background-color: white'><tr><th>name</th><th>url</th><th>comment</th></tr></thead><tbody><tr><td>bronzepath</td><td>abfss://kriptocontainer002@kriptostorage003.dfs.core.windows.net/</td><td></td></tr><tr><td>gold_path</td><td>abfss://gold@kriptostorage003.dfs.core.windows.net/</td><td>The path to my gold storage</td></tr><tr><td>metastore_root_location</td><td>abfss://metastore-root@kriptostorage003.dfs.core.windows.net/</td><td>Auto-created external location which provides access to the nominated metastore-level storage account for the metastore. Changing the URL on this external location will not update the metastore-level storage, and could break access. You can update the credential on this external location if desired.</td></tr><tr><td>schema_path</td><td>abfss://schema@kriptostorage003.dfs.core.windows.net/</td><td></td></tr><tr><td>silver_path</td><td>abfss://silver@kriptostorage003.dfs.core.windows.net/</td><td></td></tr></tbody></table></div>"
      ]
     },
     "metadata": {
      "application/vnd.databricks.v1+output": {
       "addedWidgets": {},
       "aggData": [],
       "aggError": "",
       "aggOverflow": false,
       "aggSchema": [],
       "aggSeriesLimitReached": false,
       "aggType": "",
       "arguments": {},
       "columnCustomDisplayInfos": {},
       "data": [
        [
         "bronzepath",
         "abfss://kriptocontainer002@kriptostorage003.dfs.core.windows.net/",
         ""
        ],
        [
         "gold_path",
         "abfss://gold@kriptostorage003.dfs.core.windows.net/",
         "The path to my gold storage"
        ],
        [
         "metastore_root_location",
         "abfss://metastore-root@kriptostorage003.dfs.core.windows.net/",
         "Auto-created external location which provides access to the nominated metastore-level storage account for the metastore. Changing the URL on this external location will not update the metastore-level storage, and could break access. You can update the credential on this external location if desired."
        ],
        [
         "schema_path",
         "abfss://schema@kriptostorage003.dfs.core.windows.net/",
         ""
        ],
        [
         "silver_path",
         "abfss://silver@kriptostorage003.dfs.core.windows.net/",
         ""
        ]
       ],
       "datasetInfos": [],
       "dbfsResultPath": null,
       "isJsonSchema": true,
       "metadata": {
        "createTempViewForImplicitDf": true,
        "dataframeName": "_sqldf",
        "executionCount": 6
       },
       "overflow": false,
       "plotOptions": {
        "customPlotOptions": {},
        "displayType": "table",
        "pivotAggregation": null,
        "pivotColumns": null,
        "xColumns": null,
        "yColumns": null
       },
       "removedWidgets": [],
       "schema": [
        {
         "metadata": "{}",
         "name": "name",
         "type": "\"string\""
        },
        {
         "metadata": "{}",
         "name": "url",
         "type": "\"string\""
        },
        {
         "metadata": "{}",
         "name": "comment",
         "type": "\"string\""
        }
       ],
       "type": "table"
      }
     },
     "output_type": "display_data"
    }
   ],
   "source": [
    "%sql\n",
    "SHOW EXTERNAL LOCATIONS;"
   ]
  },
  {
   "cell_type": "code",
   "execution_count": 0,
   "metadata": {
    "application/vnd.databricks.v1+cell": {
     "cellMetadata": {
      "byteLimit": 2048000,
      "implicitDf": true,
      "rowLimit": 10000
     },
     "inputWidgets": {},
     "nuid": "26e52d79-294b-479d-9d72-dde8a2c138bc",
     "showTitle": false,
     "tableResultSettingsMap": {},
     "title": ""
    }
   },
   "outputs": [
    {
     "data": {
      "text/html": [
       "<style scoped>\n",
       "  .table-result-container {\n",
       "    max-height: 300px;\n",
       "    overflow: auto;\n",
       "  }\n",
       "  table, th, td {\n",
       "    border: 1px solid black;\n",
       "    border-collapse: collapse;\n",
       "  }\n",
       "  th, td {\n",
       "    padding: 5px;\n",
       "  }\n",
       "  th {\n",
       "    text-align: left;\n",
       "  }\n",
       "</style><div class='table-result-container'><table class='table-result'><thead style='background-color: white'><tr></tr></thead><tbody></tbody></table></div>"
      ]
     },
     "metadata": {
      "application/vnd.databricks.v1+output": {
       "addedWidgets": {},
       "aggData": [],
       "aggError": "",
       "aggOverflow": false,
       "aggSchema": [],
       "aggSeriesLimitReached": false,
       "aggType": "",
       "arguments": {},
       "columnCustomDisplayInfos": {},
       "data": [],
       "datasetInfos": [],
       "dbfsResultPath": null,
       "isJsonSchema": true,
       "metadata": {
        "dataframeName": null
       },
       "overflow": false,
       "plotOptions": {
        "customPlotOptions": {},
        "displayType": "table",
        "pivotAggregation": null,
        "pivotColumns": null,
        "xColumns": null,
        "yColumns": null
       },
       "removedWidgets": [],
       "schema": [],
       "type": "table"
      }
     },
     "output_type": "display_data"
    }
   ],
   "source": [
    "%sql\n",
    "CREATE TABLE IF NOT EXISTS ctl_krypto.staging_schema.raw_silver\n",
    "USING delta\n",
    "LOCATION 'abfss://silver@kriptostorage003.dfs.core.windows.net/silver_kripto'"
   ]
  },
  {
   "cell_type": "code",
   "execution_count": 0,
   "metadata": {
    "application/vnd.databricks.v1+cell": {
     "cellMetadata": {
      "byteLimit": 2048000,
      "implicitDf": true,
      "rowLimit": 10000
     },
     "inputWidgets": {},
     "nuid": "c7a34377-771d-4206-9209-890d1fdaf126",
     "showTitle": false,
     "tableResultSettingsMap": {},
     "title": ""
    }
   },
   "outputs": [
    {
     "data": {
      "text/html": [
       "<style scoped>\n",
       "  .table-result-container {\n",
       "    max-height: 300px;\n",
       "    overflow: auto;\n",
       "  }\n",
       "  table, th, td {\n",
       "    border: 1px solid black;\n",
       "    border-collapse: collapse;\n",
       "  }\n",
       "  th, td {\n",
       "    padding: 5px;\n",
       "  }\n",
       "  th {\n",
       "    text-align: left;\n",
       "  }\n",
       "</style><div class='table-result-container'><table class='table-result'><thead style='background-color: white'><tr><th>ath</th><th>ath_change_percentage</th><th>ath_date</th><th>atl</th><th>atl_change_percentage</th><th>atl_date</th><th>circulating_supply</th><th>current_price</th><th>fully_diluted_valuation</th><th>high_24h</th><th>id</th><th>image</th><th>low_24h</th><th>market_cap</th><th>market_cap_change_24h</th><th>market_cap_change_percentage_24h</th><th>market_rank</th><th>max_supply</th><th>name</th><th>price_change_24h</th><th>price_change_percentage_24h</th><th>symbol</th><th>total_supply</th><th>total_volume</th><th>_rescued_data</th><th>ingested_time</th><th>roi_time</th><th>roi_currency</th><th>roi_percentage</th><th>last_updated</th><th>date_partition</th><th>market_cap_category</th></tr></thead><tbody><tr><td>0.00700261</td><td>-25.99487</td><td>2025-05-30T03:20:44.650Z</td><td>6.9854E-4</td><td>641.87447</td><td>2024-08-05T13:31:51.088Z</td><td>8.630692519557034E10</td><td>0.005173</td><td>5.17629519E8</td><td>0.00554746</td><td>zebec-network</td><td>https://coin-images.coingecko.com/coins/images/37052/large/zbcn.jpeg?1713168241</td><td>0.00429283</td><td>4.46755253E8</td><td>6.5278998E7</td><td>17.1122</td><td>188</td><td>1.0E11</td><td>Zebec Network</td><td>7.6497E-4</td><td>17.35395</td><td>zbcn</td><td>9.999885132512544E10</td><td>7.0864075E7</td><td>null</td><td>2025-07-31T09:37:07.791Z</td><td>null</td><td>null</td><td>null</td><td>2025-07-29T19:45:23.934Z</td><td>2025-07-29</td><td>Small Cap</td></tr><tr><td>4084.25</td><td>-9.08596</td><td>2024-12-06T20:43:31.342Z</td><td>1137.25</td><td>226.50373</td><td>2022-11-23T02:25:33.267Z</td><td>120228.1619903289</td><td>3713.16</td><td>4.46273223E8</td><td>3882.51</td><td>frax-ether</td><td>https://coin-images.coingecko.com/coins/images/28284/large/frxETH_icon.png?1696527284</td><td>3689.9</td><td>4.46273223E8</td><td>-8940809.777430296</td><td>-1.96409</td><td>189</td><td>0.0</td><td>Frax Ether</td><td>-72.10275192251129</td><td>-1.90483</td><td>frxeth</td><td>120228.1619903289</td><td>1880446.0</td><td>null</td><td>2025-07-31T09:37:07.791Z</td><td>null</td><td>null</td><td>null</td><td>2025-07-29T19:45:22.537Z</td><td>2025-07-29</td><td>Small Cap</td></tr><tr><td>910.54</td><td>-94.81147</td><td>2021-05-12T02:29:08.794Z</td><td>25.74</td><td>83.54006</td><td>2023-06-10T16:15:05.289Z</td><td>9395611.377689738</td><td>47.26</td><td>4.72388681E8</td><td>49.68</td><td>compound-governance-token</td><td>https://coin-images.coingecko.com/coins/images/10775/large/COMP.png?1696510737</td><td>47.01</td><td>4.43838047E8</td><td>-1.769524276238191E7</td><td>-3.83401</td><td>190</td><td>1.0E7</td><td>Compound</td><td>-1.8217469941707591</td><td>-3.71185</td><td>comp</td><td>1.0E7</td><td>5.998045E7</td><td>null</td><td>2025-07-31T09:37:07.791Z</td><td>null</td><td>null</td><td>null</td><td>2025-07-29T19:45:13.018Z</td><td>2025-07-29</td><td>Small Cap</td></tr><tr><td>4.52</td><td>-86.96306</td><td>2024-03-07T22:19:11.131Z</td><td>0.418236</td><td>40.85195</td><td>2025-06-22T20:22:23.718Z</td><td>7.535168967490065E8</td><td>0.588435</td><td>5.64070359E8</td><td>0.619432</td><td>dydx-chain</td><td>https://coin-images.coingecko.com/coins/images/32594/large/dydx.png?1698673495</td><td>0.587354</td><td>4.43512038E8</td><td>-1.7699757301310778E7</td><td>-3.83766</td><td>191</td><td>1.0E9</td><td>dYdX</td><td>-0.02299086811702411</td><td>-3.76021</td><td>dydx</td><td>9.58342751E8</td><td>1.276708E7</td><td>null</td><td>2025-07-31T09:37:07.791Z</td><td>null</td><td>null</td><td>null</td><td>2025-07-29T19:45:14.927Z</td><td>2025-07-29</td><td>Small Cap</td></tr><tr><td>4090.99</td><td>-7.96174</td><td>2024-12-16T18:57:35.001Z</td><td>1390.73</td><td>170.74092</td><td>2025-04-09T01:31:27.335Z</td><td>116697.1033546364</td><td>3768.94</td><td>4.38772861E8</td><td>3878.96</td><td>polygon-pos-bridged-weth-polygon-pos</td><td>https://coin-images.coingecko.com/coins/images/39708/large/WETH.PNG?1723730343</td><td>3729.29</td><td>4.38959975E8</td><td>-3217889.029682696</td><td>-0.72774</td><td>192</td><td>0.0</td><td>Polygon PoS Bridged WETH (Polygon POS)</td><td>-6.71626630910032</td><td>-0.17788</td><td>weth</td><td>116647.3592901615</td><td>2.1106388E7</td><td>null</td><td>2025-07-31T09:37:07.791Z</td><td>null</td><td>null</td><td>null</td><td>2025-07-29T19:45:12.373Z</td><td>2025-07-29</td><td>Small Cap</td></tr></tbody></table></div>"
      ]
     },
     "metadata": {
      "application/vnd.databricks.v1+output": {
       "addedWidgets": {},
       "aggData": [],
       "aggError": "",
       "aggOverflow": false,
       "aggSchema": [],
       "aggSeriesLimitReached": false,
       "aggType": "",
       "arguments": {},
       "columnCustomDisplayInfos": {},
       "data": [
        [
         "0.00700261",
         -25.99487,
         "2025-05-30T03:20:44.650Z",
         "6.9854E-4",
         641.87447,
         "2024-08-05T13:31:51.088Z",
         86306925195.57034,
         0.005173,
         517629519,
         0.00554746,
         "zebec-network",
         "https://coin-images.coingecko.com/coins/images/37052/large/zbcn.jpeg?1713168241",
         0.00429283,
         446755253,
         65278998,
         17.1122,
         188,
         100000000000,
         "Zebec Network",
         0.00076497,
         17.35395,
         "zbcn",
         99998851325.12544,
         70864075,
         null,
         "2025-07-31T09:37:07.791Z",
         null,
         null,
         null,
         "2025-07-29T19:45:23.934Z",
         "2025-07-29",
         "Small Cap"
        ],
        [
         "4084.25",
         -9.08596,
         "2024-12-06T20:43:31.342Z",
         "1137.25",
         226.50373,
         "2022-11-23T02:25:33.267Z",
         120228.1619903289,
         3713.16,
         446273223,
         3882.51,
         "frax-ether",
         "https://coin-images.coingecko.com/coins/images/28284/large/frxETH_icon.png?1696527284",
         3689.9,
         446273223,
         -8940809.777430296,
         -1.96409,
         189,
         0,
         "Frax Ether",
         -72.10275192251129,
         -1.90483,
         "frxeth",
         120228.1619903289,
         1880446,
         null,
         "2025-07-31T09:37:07.791Z",
         null,
         null,
         null,
         "2025-07-29T19:45:22.537Z",
         "2025-07-29",
         "Small Cap"
        ],
        [
         "910.54",
         -94.81147,
         "2021-05-12T02:29:08.794Z",
         "25.74",
         83.54006,
         "2023-06-10T16:15:05.289Z",
         9395611.377689738,
         47.26,
         472388681,
         49.68,
         "compound-governance-token",
         "https://coin-images.coingecko.com/coins/images/10775/large/COMP.png?1696510737",
         47.01,
         443838047,
         -17695242.76238191,
         -3.83401,
         190,
         10000000,
         "Compound",
         -1.8217469941707591,
         -3.71185,
         "comp",
         10000000,
         59980450,
         null,
         "2025-07-31T09:37:07.791Z",
         null,
         null,
         null,
         "2025-07-29T19:45:13.018Z",
         "2025-07-29",
         "Small Cap"
        ],
        [
         "4.52",
         -86.96306,
         "2024-03-07T22:19:11.131Z",
         "0.418236",
         40.85195,
         "2025-06-22T20:22:23.718Z",
         753516896.7490065,
         0.588435,
         564070359,
         0.619432,
         "dydx-chain",
         "https://coin-images.coingecko.com/coins/images/32594/large/dydx.png?1698673495",
         0.587354,
         443512038,
         -17699757.301310778,
         -3.83766,
         191,
         1000000000,
         "dYdX",
         -0.02299086811702411,
         -3.76021,
         "dydx",
         958342751,
         12767080,
         null,
         "2025-07-31T09:37:07.791Z",
         null,
         null,
         null,
         "2025-07-29T19:45:14.927Z",
         "2025-07-29",
         "Small Cap"
        ],
        [
         "4090.99",
         -7.96174,
         "2024-12-16T18:57:35.001Z",
         "1390.73",
         170.74092,
         "2025-04-09T01:31:27.335Z",
         116697.1033546364,
         3768.94,
         438772861,
         3878.96,
         "polygon-pos-bridged-weth-polygon-pos",
         "https://coin-images.coingecko.com/coins/images/39708/large/WETH.PNG?1723730343",
         3729.29,
         438959975,
         -3217889.029682696,
         -0.72774,
         192,
         0,
         "Polygon PoS Bridged WETH (Polygon POS)",
         -6.71626630910032,
         -0.17788,
         "weth",
         116647.3592901615,
         21106388,
         null,
         "2025-07-31T09:37:07.791Z",
         null,
         null,
         null,
         "2025-07-29T19:45:12.373Z",
         "2025-07-29",
         "Small Cap"
        ]
       ],
       "datasetInfos": [],
       "dbfsResultPath": null,
       "isJsonSchema": true,
       "metadata": {
        "createTempViewForImplicitDf": true,
        "dataframeName": "_sqldf",
        "executionCount": 7
       },
       "overflow": false,
       "plotOptions": {
        "customPlotOptions": {},
        "displayType": "table",
        "pivotAggregation": null,
        "pivotColumns": null,
        "xColumns": null,
        "yColumns": null
       },
       "removedWidgets": [],
       "schema": [
        {
         "metadata": "{}",
         "name": "ath",
         "type": "\"string\""
        },
        {
         "metadata": "{}",
         "name": "ath_change_percentage",
         "type": "\"double\""
        },
        {
         "metadata": "{}",
         "name": "ath_date",
         "type": "\"string\""
        },
        {
         "metadata": "{}",
         "name": "atl",
         "type": "\"string\""
        },
        {
         "metadata": "{}",
         "name": "atl_change_percentage",
         "type": "\"double\""
        },
        {
         "metadata": "{}",
         "name": "atl_date",
         "type": "\"string\""
        },
        {
         "metadata": "{}",
         "name": "circulating_supply",
         "type": "\"double\""
        },
        {
         "metadata": "{}",
         "name": "current_price",
         "type": "\"double\""
        },
        {
         "metadata": "{}",
         "name": "fully_diluted_valuation",
         "type": "\"double\""
        },
        {
         "metadata": "{}",
         "name": "high_24h",
         "type": "\"double\""
        },
        {
         "metadata": "{}",
         "name": "id",
         "type": "\"string\""
        },
        {
         "metadata": "{}",
         "name": "image",
         "type": "\"string\""
        },
        {
         "metadata": "{}",
         "name": "low_24h",
         "type": "\"double\""
        },
        {
         "metadata": "{}",
         "name": "market_cap",
         "type": "\"double\""
        },
        {
         "metadata": "{}",
         "name": "market_cap_change_24h",
         "type": "\"double\""
        },
        {
         "metadata": "{}",
         "name": "market_cap_change_percentage_24h",
         "type": "\"double\""
        },
        {
         "metadata": "{}",
         "name": "market_rank",
         "type": "\"integer\""
        },
        {
         "metadata": "{}",
         "name": "max_supply",
         "type": "\"double\""
        },
        {
         "metadata": "{}",
         "name": "name",
         "type": "\"string\""
        },
        {
         "metadata": "{}",
         "name": "price_change_24h",
         "type": "\"double\""
        },
        {
         "metadata": "{}",
         "name": "price_change_percentage_24h",
         "type": "\"double\""
        },
        {
         "metadata": "{}",
         "name": "symbol",
         "type": "\"string\""
        },
        {
         "metadata": "{}",
         "name": "total_supply",
         "type": "\"double\""
        },
        {
         "metadata": "{}",
         "name": "total_volume",
         "type": "\"double\""
        },
        {
         "metadata": "{}",
         "name": "_rescued_data",
         "type": "\"string\""
        },
        {
         "metadata": "{}",
         "name": "ingested_time",
         "type": "\"timestamp\""
        },
        {
         "metadata": "{}",
         "name": "roi_time",
         "type": "\"double\""
        },
        {
         "metadata": "{}",
         "name": "roi_currency",
         "type": "\"string\""
        },
        {
         "metadata": "{}",
         "name": "roi_percentage",
         "type": "\"double\""
        },
        {
         "metadata": "{}",
         "name": "last_updated",
         "type": "\"timestamp\""
        },
        {
         "metadata": "{}",
         "name": "date_partition",
         "type": "\"date\""
        },
        {
         "metadata": "{}",
         "name": "market_cap_category",
         "type": "\"string\""
        }
       ],
       "type": "table"
      }
     },
     "output_type": "display_data"
    }
   ],
   "source": [
    "%sql\n",
    "SELECT * FROM ctl_krypto.staging_schema.raw_silver LIMIT 5;"
   ]
  },
  {
   "cell_type": "code",
   "execution_count": 0,
   "metadata": {
    "application/vnd.databricks.v1+cell": {
     "cellMetadata": {
      "byteLimit": 2048000,
      "implicitDf": true,
      "rowLimit": 10000
     },
     "inputWidgets": {},
     "nuid": "41d4bf39-f3bc-467d-bfe8-763edd0bf443",
     "showTitle": false,
     "tableResultSettingsMap": {},
     "title": ""
    }
   },
   "outputs": [
    {
     "data": {
      "text/html": [
       "<style scoped>\n",
       "  .table-result-container {\n",
       "    max-height: 300px;\n",
       "    overflow: auto;\n",
       "  }\n",
       "  table, th, td {\n",
       "    border: 1px solid black;\n",
       "    border-collapse: collapse;\n",
       "  }\n",
       "  th, td {\n",
       "    padding: 5px;\n",
       "  }\n",
       "  th {\n",
       "    text-align: left;\n",
       "  }\n",
       "</style><div class='table-result-container'><table class='table-result'><thead style='background-color: white'><tr><th>count(1)</th></tr></thead><tbody><tr><td>4500</td></tr></tbody></table></div>"
      ]
     },
     "metadata": {
      "application/vnd.databricks.v1+output": {
       "addedWidgets": {},
       "aggData": [],
       "aggError": "",
       "aggOverflow": false,
       "aggSchema": [],
       "aggSeriesLimitReached": false,
       "aggType": "",
       "arguments": {},
       "columnCustomDisplayInfos": {},
       "data": [
        [
         4500
        ]
       ],
       "datasetInfos": [],
       "dbfsResultPath": null,
       "isJsonSchema": true,
       "metadata": {
        "createTempViewForImplicitDf": true,
        "dataframeName": "_sqldf",
        "executionCount": 8
       },
       "overflow": false,
       "plotOptions": {
        "customPlotOptions": {},
        "displayType": "table",
        "pivotAggregation": null,
        "pivotColumns": null,
        "xColumns": null,
        "yColumns": null
       },
       "removedWidgets": [],
       "schema": [
        {
         "metadata": "{\"__autoGeneratedAlias\":\"true\"}",
         "name": "count(1)",
         "type": "\"long\""
        }
       ],
       "type": "table"
      }
     },
     "output_type": "display_data"
    }
   ],
   "source": [
    "%sql\n",
    "\n",
    "SELECT COUNT(*) FROM ctl_krypto.staging_schema.raw_silver;"
   ]
  },
  {
   "cell_type": "code",
   "execution_count": 0,
   "metadata": {
    "application/vnd.databricks.v1+cell": {
     "cellMetadata": {
      "byteLimit": 2048000,
      "rowLimit": 10000
     },
     "inputWidgets": {},
     "nuid": "c35dfbd5-3d3f-4d14-9e0d-0135a82b1fd5",
     "showTitle": false,
     "tableResultSettingsMap": {},
     "title": ""
    }
   },
   "outputs": [
    {
     "name": "stdout",
     "output_type": "stream",
     "text": [
      "Number of columns: 32\n"
     ]
    }
   ],
   "source": [
    "num_columns = len(spark.table(\"ctl_krypto.staging_schema.raw_silver\").columns)\n",
    "print(f\"Number of columns: {num_columns}\")"
   ]
  },
  {
   "cell_type": "code",
   "execution_count": 0,
   "metadata": {
    "application/vnd.databricks.v1+cell": {
     "cellMetadata": {
      "byteLimit": 2048000,
      "implicitDf": true,
      "rowLimit": 10000
     },
     "inputWidgets": {},
     "nuid": "04302641-108a-413e-ba99-d837646b1293",
     "showTitle": false,
     "tableResultSettingsMap": {},
     "title": ""
    }
   },
   "outputs": [
    {
     "data": {
      "text/html": [
       "<style scoped>\n",
       "  .table-result-container {\n",
       "    max-height: 300px;\n",
       "    overflow: auto;\n",
       "  }\n",
       "  table, th, td {\n",
       "    border: 1px solid black;\n",
       "    border-collapse: collapse;\n",
       "  }\n",
       "  th, td {\n",
       "    padding: 5px;\n",
       "  }\n",
       "  th {\n",
       "    text-align: left;\n",
       "  }\n",
       "</style><div class='table-result-container'><table class='table-result'><thead style='background-color: white'><tr><th>num_affected_rows</th><th>num_inserted_rows</th></tr></thead><tbody></tbody></table></div>"
      ]
     },
     "metadata": {
      "application/vnd.databricks.v1+output": {
       "addedWidgets": {},
       "aggData": [],
       "aggError": "",
       "aggOverflow": false,
       "aggSchema": [],
       "aggSeriesLimitReached": false,
       "aggType": "",
       "arguments": {},
       "columnCustomDisplayInfos": {},
       "data": [],
       "datasetInfos": [],
       "dbfsResultPath": null,
       "isJsonSchema": true,
       "metadata": {
        "createTempViewForImplicitDf": true,
        "dataframeName": "_sqldf",
        "executionCount": 10
       },
       "overflow": false,
       "plotOptions": {
        "customPlotOptions": {},
        "displayType": "table",
        "pivotAggregation": null,
        "pivotColumns": null,
        "xColumns": null,
        "yColumns": null
       },
       "removedWidgets": [],
       "schema": [
        {
         "metadata": "{}",
         "name": "num_affected_rows",
         "type": "\"long\""
        },
        {
         "metadata": "{}",
         "name": "num_inserted_rows",
         "type": "\"long\""
        }
       ],
       "type": "table"
      }
     },
     "output_type": "display_data"
    }
   ],
   "source": [
    "%sql\n",
    "CREATE OR REPLACE TABLE ctl_krypto.staging_schema.cleaned_market_data AS\n",
    "SELECT\n",
    "  ath,\n",
    "  ath_change_percentage,\n",
    "  ath_date,\n",
    "  atl,\n",
    "  atl_change_percentage,\n",
    "  atl_date,\n",
    "  circulating_supply,\n",
    "  current_price,\n",
    "  fully_diluted_valuation,\n",
    "  high_24h,\n",
    "  id,\n",
    "  image,\n",
    "  low_24h,\n",
    "  market_cap,\n",
    "  market_cap_change_24h,\n",
    "  market_cap_change_percentage_24h,\n",
    "  market_rank,\n",
    "  max_supply,\n",
    "  name,\n",
    "  price_change_24h,\n",
    "  price_change_percentage_24h,\n",
    "  symbol,\n",
    "  total_supply,\n",
    "  total_volume,\n",
    "  _rescued_data,\n",
    "  ingested_time,\n",
    "  roi_time,\n",
    "  roi_currency,\n",
    "  roi_percentage,\n",
    "  last_updated,\n",
    "  date_partition,\n",
    "  market_cap_category\n",
    "FROM ctl_krypto.staging_schema.raw_silver\n",
    "LIMIT 5;"
   ]
  },
  {
   "cell_type": "code",
   "execution_count": 0,
   "metadata": {
    "application/vnd.databricks.v1+cell": {
     "cellMetadata": {
      "byteLimit": 2048000,
      "implicitDf": true,
      "rowLimit": 10000
     },
     "inputWidgets": {},
     "nuid": "b6d37c7e-1b8c-4a7a-8669-1a7d2dfba962",
     "showTitle": false,
     "tableResultSettingsMap": {},
     "title": ""
    }
   },
   "outputs": [
    {
     "data": {
      "text/html": [
       "<style scoped>\n",
       "  .table-result-container {\n",
       "    max-height: 300px;\n",
       "    overflow: auto;\n",
       "  }\n",
       "  table, th, td {\n",
       "    border: 1px solid black;\n",
       "    border-collapse: collapse;\n",
       "  }\n",
       "  th, td {\n",
       "    padding: 5px;\n",
       "  }\n",
       "  th {\n",
       "    text-align: left;\n",
       "  }\n",
       "</style><div class='table-result-container'><table class='table-result'><thead style='background-color: white'><tr><th>ath</th><th>ath_change_percentage</th><th>ath_date</th><th>atl</th><th>atl_change_percentage</th><th>atl_date</th><th>circulating_supply</th><th>current_price</th><th>fully_diluted_valuation</th><th>high_24h</th><th>id</th><th>image</th><th>low_24h</th><th>market_cap</th><th>market_cap_change_24h</th><th>market_cap_change_percentage_24h</th><th>market_rank</th><th>max_supply</th><th>name</th><th>price_change_24h</th><th>price_change_percentage_24h</th><th>symbol</th><th>total_supply</th><th>total_volume</th><th>_rescued_data</th><th>ingested_time</th><th>roi_time</th><th>roi_currency</th><th>roi_percentage</th><th>last_updated</th><th>date_partition</th><th>market_cap_category</th></tr></thead><tbody><tr><td>0.00700261</td><td>-25.99487</td><td>2025-05-30T03:20:44.650Z</td><td>6.9854E-4</td><td>641.87447</td><td>2024-08-05T13:31:51.088Z</td><td>8.630692519557034E10</td><td>0.005173</td><td>5.17629519E8</td><td>0.00554746</td><td>zebec-network</td><td>https://coin-images.coingecko.com/coins/images/37052/large/zbcn.jpeg?1713168241</td><td>0.00429283</td><td>4.46755253E8</td><td>6.5278998E7</td><td>17.1122</td><td>188</td><td>1.0E11</td><td>Zebec Network</td><td>7.6497E-4</td><td>17.35395</td><td>zbcn</td><td>9.999885132512544E10</td><td>7.0864075E7</td><td>null</td><td>2025-07-31T09:37:07.791Z</td><td>null</td><td>null</td><td>null</td><td>2025-07-29T19:45:23.934Z</td><td>2025-07-29</td><td>Small Cap</td></tr><tr><td>4084.25</td><td>-9.08596</td><td>2024-12-06T20:43:31.342Z</td><td>1137.25</td><td>226.50373</td><td>2022-11-23T02:25:33.267Z</td><td>120228.1619903289</td><td>3713.16</td><td>4.46273223E8</td><td>3882.51</td><td>frax-ether</td><td>https://coin-images.coingecko.com/coins/images/28284/large/frxETH_icon.png?1696527284</td><td>3689.9</td><td>4.46273223E8</td><td>-8940809.777430296</td><td>-1.96409</td><td>189</td><td>0.0</td><td>Frax Ether</td><td>-72.10275192251129</td><td>-1.90483</td><td>frxeth</td><td>120228.1619903289</td><td>1880446.0</td><td>null</td><td>2025-07-31T09:37:07.791Z</td><td>null</td><td>null</td><td>null</td><td>2025-07-29T19:45:22.537Z</td><td>2025-07-29</td><td>Small Cap</td></tr><tr><td>910.54</td><td>-94.81147</td><td>2021-05-12T02:29:08.794Z</td><td>25.74</td><td>83.54006</td><td>2023-06-10T16:15:05.289Z</td><td>9395611.377689738</td><td>47.26</td><td>4.72388681E8</td><td>49.68</td><td>compound-governance-token</td><td>https://coin-images.coingecko.com/coins/images/10775/large/COMP.png?1696510737</td><td>47.01</td><td>4.43838047E8</td><td>-1.769524276238191E7</td><td>-3.83401</td><td>190</td><td>1.0E7</td><td>Compound</td><td>-1.8217469941707591</td><td>-3.71185</td><td>comp</td><td>1.0E7</td><td>5.998045E7</td><td>null</td><td>2025-07-31T09:37:07.791Z</td><td>null</td><td>null</td><td>null</td><td>2025-07-29T19:45:13.018Z</td><td>2025-07-29</td><td>Small Cap</td></tr><tr><td>4.52</td><td>-86.96306</td><td>2024-03-07T22:19:11.131Z</td><td>0.418236</td><td>40.85195</td><td>2025-06-22T20:22:23.718Z</td><td>7.535168967490065E8</td><td>0.588435</td><td>5.64070359E8</td><td>0.619432</td><td>dydx-chain</td><td>https://coin-images.coingecko.com/coins/images/32594/large/dydx.png?1698673495</td><td>0.587354</td><td>4.43512038E8</td><td>-1.7699757301310778E7</td><td>-3.83766</td><td>191</td><td>1.0E9</td><td>dYdX</td><td>-0.02299086811702411</td><td>-3.76021</td><td>dydx</td><td>9.58342751E8</td><td>1.276708E7</td><td>null</td><td>2025-07-31T09:37:07.791Z</td><td>null</td><td>null</td><td>null</td><td>2025-07-29T19:45:14.927Z</td><td>2025-07-29</td><td>Small Cap</td></tr><tr><td>4090.99</td><td>-7.96174</td><td>2024-12-16T18:57:35.001Z</td><td>1390.73</td><td>170.74092</td><td>2025-04-09T01:31:27.335Z</td><td>116697.1033546364</td><td>3768.94</td><td>4.38772861E8</td><td>3878.96</td><td>polygon-pos-bridged-weth-polygon-pos</td><td>https://coin-images.coingecko.com/coins/images/39708/large/WETH.PNG?1723730343</td><td>3729.29</td><td>4.38959975E8</td><td>-3217889.029682696</td><td>-0.72774</td><td>192</td><td>0.0</td><td>Polygon PoS Bridged WETH (Polygon POS)</td><td>-6.71626630910032</td><td>-0.17788</td><td>weth</td><td>116647.3592901615</td><td>2.1106388E7</td><td>null</td><td>2025-07-31T09:37:07.791Z</td><td>null</td><td>null</td><td>null</td><td>2025-07-29T19:45:12.373Z</td><td>2025-07-29</td><td>Small Cap</td></tr></tbody></table></div>"
      ]
     },
     "metadata": {
      "application/vnd.databricks.v1+output": {
       "addedWidgets": {},
       "aggData": [],
       "aggError": "",
       "aggOverflow": false,
       "aggSchema": [],
       "aggSeriesLimitReached": false,
       "aggType": "",
       "arguments": {},
       "columnCustomDisplayInfos": {},
       "data": [
        [
         "0.00700261",
         -25.99487,
         "2025-05-30T03:20:44.650Z",
         "6.9854E-4",
         641.87447,
         "2024-08-05T13:31:51.088Z",
         86306925195.57034,
         0.005173,
         517629519,
         0.00554746,
         "zebec-network",
         "https://coin-images.coingecko.com/coins/images/37052/large/zbcn.jpeg?1713168241",
         0.00429283,
         446755253,
         65278998,
         17.1122,
         188,
         100000000000,
         "Zebec Network",
         0.00076497,
         17.35395,
         "zbcn",
         99998851325.12544,
         70864075,
         null,
         "2025-07-31T09:37:07.791Z",
         null,
         null,
         null,
         "2025-07-29T19:45:23.934Z",
         "2025-07-29",
         "Small Cap"
        ],
        [
         "4084.25",
         -9.08596,
         "2024-12-06T20:43:31.342Z",
         "1137.25",
         226.50373,
         "2022-11-23T02:25:33.267Z",
         120228.1619903289,
         3713.16,
         446273223,
         3882.51,
         "frax-ether",
         "https://coin-images.coingecko.com/coins/images/28284/large/frxETH_icon.png?1696527284",
         3689.9,
         446273223,
         -8940809.777430296,
         -1.96409,
         189,
         0,
         "Frax Ether",
         -72.10275192251129,
         -1.90483,
         "frxeth",
         120228.1619903289,
         1880446,
         null,
         "2025-07-31T09:37:07.791Z",
         null,
         null,
         null,
         "2025-07-29T19:45:22.537Z",
         "2025-07-29",
         "Small Cap"
        ],
        [
         "910.54",
         -94.81147,
         "2021-05-12T02:29:08.794Z",
         "25.74",
         83.54006,
         "2023-06-10T16:15:05.289Z",
         9395611.377689738,
         47.26,
         472388681,
         49.68,
         "compound-governance-token",
         "https://coin-images.coingecko.com/coins/images/10775/large/COMP.png?1696510737",
         47.01,
         443838047,
         -17695242.76238191,
         -3.83401,
         190,
         10000000,
         "Compound",
         -1.8217469941707591,
         -3.71185,
         "comp",
         10000000,
         59980450,
         null,
         "2025-07-31T09:37:07.791Z",
         null,
         null,
         null,
         "2025-07-29T19:45:13.018Z",
         "2025-07-29",
         "Small Cap"
        ],
        [
         "4.52",
         -86.96306,
         "2024-03-07T22:19:11.131Z",
         "0.418236",
         40.85195,
         "2025-06-22T20:22:23.718Z",
         753516896.7490065,
         0.588435,
         564070359,
         0.619432,
         "dydx-chain",
         "https://coin-images.coingecko.com/coins/images/32594/large/dydx.png?1698673495",
         0.587354,
         443512038,
         -17699757.301310778,
         -3.83766,
         191,
         1000000000,
         "dYdX",
         -0.02299086811702411,
         -3.76021,
         "dydx",
         958342751,
         12767080,
         null,
         "2025-07-31T09:37:07.791Z",
         null,
         null,
         null,
         "2025-07-29T19:45:14.927Z",
         "2025-07-29",
         "Small Cap"
        ],
        [
         "4090.99",
         -7.96174,
         "2024-12-16T18:57:35.001Z",
         "1390.73",
         170.74092,
         "2025-04-09T01:31:27.335Z",
         116697.1033546364,
         3768.94,
         438772861,
         3878.96,
         "polygon-pos-bridged-weth-polygon-pos",
         "https://coin-images.coingecko.com/coins/images/39708/large/WETH.PNG?1723730343",
         3729.29,
         438959975,
         -3217889.029682696,
         -0.72774,
         192,
         0,
         "Polygon PoS Bridged WETH (Polygon POS)",
         -6.71626630910032,
         -0.17788,
         "weth",
         116647.3592901615,
         21106388,
         null,
         "2025-07-31T09:37:07.791Z",
         null,
         null,
         null,
         "2025-07-29T19:45:12.373Z",
         "2025-07-29",
         "Small Cap"
        ]
       ],
       "datasetInfos": [],
       "dbfsResultPath": null,
       "isJsonSchema": true,
       "metadata": {
        "createTempViewForImplicitDf": true,
        "dataframeName": "_sqldf",
        "executionCount": 11
       },
       "overflow": false,
       "plotOptions": {
        "customPlotOptions": {},
        "displayType": "table",
        "pivotAggregation": null,
        "pivotColumns": null,
        "xColumns": null,
        "yColumns": null
       },
       "removedWidgets": [],
       "schema": [
        {
         "metadata": "{}",
         "name": "ath",
         "type": "\"string\""
        },
        {
         "metadata": "{}",
         "name": "ath_change_percentage",
         "type": "\"double\""
        },
        {
         "metadata": "{}",
         "name": "ath_date",
         "type": "\"string\""
        },
        {
         "metadata": "{}",
         "name": "atl",
         "type": "\"string\""
        },
        {
         "metadata": "{}",
         "name": "atl_change_percentage",
         "type": "\"double\""
        },
        {
         "metadata": "{}",
         "name": "atl_date",
         "type": "\"string\""
        },
        {
         "metadata": "{}",
         "name": "circulating_supply",
         "type": "\"double\""
        },
        {
         "metadata": "{}",
         "name": "current_price",
         "type": "\"double\""
        },
        {
         "metadata": "{}",
         "name": "fully_diluted_valuation",
         "type": "\"double\""
        },
        {
         "metadata": "{}",
         "name": "high_24h",
         "type": "\"double\""
        },
        {
         "metadata": "{}",
         "name": "id",
         "type": "\"string\""
        },
        {
         "metadata": "{}",
         "name": "image",
         "type": "\"string\""
        },
        {
         "metadata": "{}",
         "name": "low_24h",
         "type": "\"double\""
        },
        {
         "metadata": "{}",
         "name": "market_cap",
         "type": "\"double\""
        },
        {
         "metadata": "{}",
         "name": "market_cap_change_24h",
         "type": "\"double\""
        },
        {
         "metadata": "{}",
         "name": "market_cap_change_percentage_24h",
         "type": "\"double\""
        },
        {
         "metadata": "{}",
         "name": "market_rank",
         "type": "\"integer\""
        },
        {
         "metadata": "{}",
         "name": "max_supply",
         "type": "\"double\""
        },
        {
         "metadata": "{}",
         "name": "name",
         "type": "\"string\""
        },
        {
         "metadata": "{}",
         "name": "price_change_24h",
         "type": "\"double\""
        },
        {
         "metadata": "{}",
         "name": "price_change_percentage_24h",
         "type": "\"double\""
        },
        {
         "metadata": "{}",
         "name": "symbol",
         "type": "\"string\""
        },
        {
         "metadata": "{}",
         "name": "total_supply",
         "type": "\"double\""
        },
        {
         "metadata": "{}",
         "name": "total_volume",
         "type": "\"double\""
        },
        {
         "metadata": "{}",
         "name": "_rescued_data",
         "type": "\"string\""
        },
        {
         "metadata": "{}",
         "name": "ingested_time",
         "type": "\"timestamp\""
        },
        {
         "metadata": "{}",
         "name": "roi_time",
         "type": "\"double\""
        },
        {
         "metadata": "{}",
         "name": "roi_currency",
         "type": "\"string\""
        },
        {
         "metadata": "{}",
         "name": "roi_percentage",
         "type": "\"double\""
        },
        {
         "metadata": "{}",
         "name": "last_updated",
         "type": "\"timestamp\""
        },
        {
         "metadata": "{}",
         "name": "date_partition",
         "type": "\"date\""
        },
        {
         "metadata": "{}",
         "name": "market_cap_category",
         "type": "\"string\""
        }
       ],
       "type": "table"
      }
     },
     "output_type": "display_data"
    }
   ],
   "source": [
    "%sql\n",
    "SELECT * FROM ctl_krypto.staging_schema.cleaned_market_data\n",
    "LIMIT 5;"
   ]
  },
  {
   "cell_type": "markdown",
   "metadata": {
    "application/vnd.databricks.v1+cell": {
     "cellMetadata": {},
     "inputWidgets": {},
     "nuid": "64ddde9c-a3c4-4481-9acf-57ec4ff67b2b",
     "showTitle": false,
     "tableResultSettingsMap": {},
     "title": ""
    }
   },
   "source": [
    "NORMALIZING THE GENERAL TABLE- By creating the Fact and Dimension tables"
   ]
  },
  {
   "cell_type": "code",
   "execution_count": 0,
   "metadata": {
    "application/vnd.databricks.v1+cell": {
     "cellMetadata": {
      "byteLimit": 2048000,
      "implicitDf": true,
      "rowLimit": 10000
     },
     "inputWidgets": {},
     "nuid": "4f079044-427e-477e-92a8-e65bd5b66d6d",
     "showTitle": false,
     "tableResultSettingsMap": {},
     "title": ""
    }
   },
   "outputs": [
    {
     "data": {
      "text/html": [
       "<style scoped>\n",
       "  .table-result-container {\n",
       "    max-height: 300px;\n",
       "    overflow: auto;\n",
       "  }\n",
       "  table, th, td {\n",
       "    border: 1px solid black;\n",
       "    border-collapse: collapse;\n",
       "  }\n",
       "  th, td {\n",
       "    padding: 5px;\n",
       "  }\n",
       "  th {\n",
       "    text-align: left;\n",
       "  }\n",
       "</style><div class='table-result-container'><table class='table-result'><thead style='background-color: white'><tr></tr></thead><tbody></tbody></table></div>"
      ]
     },
     "metadata": {
      "application/vnd.databricks.v1+output": {
       "addedWidgets": {},
       "aggData": [],
       "aggError": "",
       "aggOverflow": false,
       "aggSchema": [],
       "aggSeriesLimitReached": false,
       "aggType": "",
       "arguments": {},
       "columnCustomDisplayInfos": {},
       "data": [],
       "datasetInfos": [],
       "dbfsResultPath": null,
       "isJsonSchema": true,
       "metadata": {
        "dataframeName": null
       },
       "overflow": false,
       "plotOptions": {
        "customPlotOptions": {},
        "displayType": "table",
        "pivotAggregation": null,
        "pivotColumns": null,
        "xColumns": null,
        "yColumns": null
       },
       "removedWidgets": [],
       "schema": [],
       "type": "table"
      }
     },
     "output_type": "display_data"
    }
   ],
   "source": [
    "%sql\n",
    "CREATE DATABASE IF NOT EXISTS ctl_krypto.gold_schema;"
   ]
  },
  {
   "cell_type": "code",
   "execution_count": 0,
   "metadata": {
    "application/vnd.databricks.v1+cell": {
     "cellMetadata": {
      "byteLimit": 2048000,
      "implicitDf": true,
      "rowLimit": 10000
     },
     "inputWidgets": {},
     "nuid": "3f91a6af-d2ae-4fb1-8e60-c14d5a719c4b",
     "showTitle": false,
     "tableResultSettingsMap": {},
     "title": ""
    }
   },
   "outputs": [
    {
     "data": {
      "text/html": [
       "<style scoped>\n",
       "  .table-result-container {\n",
       "    max-height: 300px;\n",
       "    overflow: auto;\n",
       "  }\n",
       "  table, th, td {\n",
       "    border: 1px solid black;\n",
       "    border-collapse: collapse;\n",
       "  }\n",
       "  th, td {\n",
       "    padding: 5px;\n",
       "  }\n",
       "  th {\n",
       "    text-align: left;\n",
       "  }\n",
       "</style><div class='table-result-container'><table class='table-result'><thead style='background-color: white'><tr></tr></thead><tbody></tbody></table></div>"
      ]
     },
     "metadata": {
      "application/vnd.databricks.v1+output": {
       "addedWidgets": {},
       "aggData": [],
       "aggError": "",
       "aggOverflow": false,
       "aggSchema": [],
       "aggSeriesLimitReached": false,
       "aggType": "",
       "arguments": {},
       "columnCustomDisplayInfos": {},
       "data": [],
       "datasetInfos": [],
       "dbfsResultPath": null,
       "isJsonSchema": true,
       "metadata": {
        "dataframeName": null
       },
       "overflow": false,
       "plotOptions": {
        "customPlotOptions": {},
        "displayType": "table",
        "pivotAggregation": null,
        "pivotColumns": null,
        "xColumns": null,
        "yColumns": null
       },
       "removedWidgets": [],
       "schema": [],
       "type": "table"
      }
     },
     "output_type": "display_data"
    }
   ],
   "source": [
    "%sql\n",
    "DROP TABLE IF EXISTS ctl_krypto.gold_schema.Dim_Crypto;\n",
    "\n",
    "CREATE TABLE ctl_krypto.gold_schema.Dim_Crypto (\n",
    "    crypto_id STRING,\n",
    "    name STRING,\n",
    "    symbol STRING,\n",
    "    image STRING,\n",
    "    market_cap_category STRING,\n",
    "    is_current BOOLEAN,\n",
    "    effective_date TIMESTAMP,\n",
    "    end_date TIMESTAMP\n",
    ")\n",
    "USING DELTA\n",
    "LOCATION 'abfss://gold@kriptostorage003.dfs.core.windows.net/gold_kripto/Dim_Crypto/';\n"
   ]
  },
  {
   "cell_type": "code",
   "execution_count": 0,
   "metadata": {
    "application/vnd.databricks.v1+cell": {
     "cellMetadata": {
      "byteLimit": 2048000,
      "implicitDf": true,
      "rowLimit": 10000
     },
     "inputWidgets": {},
     "nuid": "83564957-0a07-4422-b378-dad6d58432ed",
     "showTitle": false,
     "tableResultSettingsMap": {},
     "title": ""
    }
   },
   "outputs": [
    {
     "data": {
      "text/html": [
       "<style scoped>\n",
       "  .table-result-container {\n",
       "    max-height: 300px;\n",
       "    overflow: auto;\n",
       "  }\n",
       "  table, th, td {\n",
       "    border: 1px solid black;\n",
       "    border-collapse: collapse;\n",
       "  }\n",
       "  th, td {\n",
       "    padding: 5px;\n",
       "  }\n",
       "  th {\n",
       "    text-align: left;\n",
       "  }\n",
       "</style><div class='table-result-container'><table class='table-result'><thead style='background-color: white'><tr></tr></thead><tbody></tbody></table></div>"
      ]
     },
     "metadata": {
      "application/vnd.databricks.v1+output": {
       "addedWidgets": {},
       "aggData": [],
       "aggError": "",
       "aggOverflow": false,
       "aggSchema": [],
       "aggSeriesLimitReached": false,
       "aggType": "",
       "arguments": {},
       "columnCustomDisplayInfos": {},
       "data": [],
       "datasetInfos": [],
       "dbfsResultPath": null,
       "isJsonSchema": true,
       "metadata": {
        "dataframeName": null
       },
       "overflow": false,
       "plotOptions": {
        "customPlotOptions": {},
        "displayType": "table",
        "pivotAggregation": null,
        "pivotColumns": null,
        "xColumns": null,
        "yColumns": null
       },
       "removedWidgets": [],
       "schema": [],
       "type": "table"
      }
     },
     "output_type": "display_data"
    }
   ],
   "source": [
    "%sql\n",
    "\n",
    "CREATE TABLE IF NOT EXISTS ctl_krypto.gold_schema.Dim_CryptoSupply (\n",
    "    crypto_id STRING,\n",
    "    total_supply STRING,\n",
    "    total_volume STRING,\n",
    "    max_supply STRING,\n",
    "    PRIMARY KEY (crypto_id)\n",
    ")\n",
    "USING DELTA\n",
    "LOCATION 'abfss://gold@kriptostorage003.dfs.core.windows.net/gold_kripto/Dim_CryptoSupply';"
   ]
  },
  {
   "cell_type": "code",
   "execution_count": 0,
   "metadata": {
    "application/vnd.databricks.v1+cell": {
     "cellMetadata": {
      "byteLimit": 2048000,
      "implicitDf": true,
      "rowLimit": 10000
     },
     "inputWidgets": {},
     "nuid": "4feecbf3-714b-42fe-a6bf-cdcc25510997",
     "showTitle": false,
     "tableResultSettingsMap": {},
     "title": ""
    }
   },
   "outputs": [
    {
     "data": {
      "text/html": [
       "<style scoped>\n",
       "  .table-result-container {\n",
       "    max-height: 300px;\n",
       "    overflow: auto;\n",
       "  }\n",
       "  table, th, td {\n",
       "    border: 1px solid black;\n",
       "    border-collapse: collapse;\n",
       "  }\n",
       "  th, td {\n",
       "    padding: 5px;\n",
       "  }\n",
       "  th {\n",
       "    text-align: left;\n",
       "  }\n",
       "</style><div class='table-result-container'><table class='table-result'><thead style='background-color: white'><tr></tr></thead><tbody></tbody></table></div>"
      ]
     },
     "metadata": {
      "application/vnd.databricks.v1+output": {
       "addedWidgets": {},
       "aggData": [],
       "aggError": "",
       "aggOverflow": false,
       "aggSchema": [],
       "aggSeriesLimitReached": false,
       "aggType": "",
       "arguments": {},
       "columnCustomDisplayInfos": {},
       "data": [],
       "datasetInfos": [],
       "dbfsResultPath": null,
       "isJsonSchema": true,
       "metadata": {
        "dataframeName": null
       },
       "overflow": false,
       "plotOptions": {
        "customPlotOptions": {},
        "displayType": "table",
        "pivotAggregation": null,
        "pivotColumns": null,
        "xColumns": null,
        "yColumns": null
       },
       "removedWidgets": [],
       "schema": [],
       "type": "table"
      }
     },
     "output_type": "display_data"
    }
   ],
   "source": [
    "%sql\n",
    "CREATE TABLE IF NOT EXISTS ctl_krypto.gold_schema.Dim_Date (\n",
    "    month_name STRING,\n",
    "    day_of_week STRING,\n",
    "    full_date_description STRING,\n",
    "    date_key DATE,\n",
    "    year INT,\n",
    "    month INT,\n",
    "    day INT,\n",
    "    quarter INT,\n",
    "    weekday INT\n",
    ")\n",
    "USING DELTA\n",
    "LOCATION 'abfss://gold@kriptostorage003.dfs.core.windows.net/gold_Kripto/Dim_Date';\n"
   ]
  },
  {
   "cell_type": "code",
   "execution_count": 0,
   "metadata": {
    "application/vnd.databricks.v1+cell": {
     "cellMetadata": {
      "byteLimit": 2048000,
      "implicitDf": true,
      "rowLimit": 10000
     },
     "inputWidgets": {},
     "nuid": "22475d5a-847c-4262-875b-5c82ae8466ef",
     "showTitle": false,
     "tableResultSettingsMap": {},
     "title": ""
    }
   },
   "outputs": [
    {
     "data": {
      "text/html": [
       "<style scoped>\n",
       "  .table-result-container {\n",
       "    max-height: 300px;\n",
       "    overflow: auto;\n",
       "  }\n",
       "  table, th, td {\n",
       "    border: 1px solid black;\n",
       "    border-collapse: collapse;\n",
       "  }\n",
       "  th, td {\n",
       "    padding: 5px;\n",
       "  }\n",
       "  th {\n",
       "    text-align: left;\n",
       "  }\n",
       "</style><div class='table-result-container'><table class='table-result'><thead style='background-color: white'><tr></tr></thead><tbody></tbody></table></div>"
      ]
     },
     "metadata": {
      "application/vnd.databricks.v1+output": {
       "addedWidgets": {},
       "aggData": [],
       "aggError": "",
       "aggOverflow": false,
       "aggSchema": [],
       "aggSeriesLimitReached": false,
       "aggType": "",
       "arguments": {},
       "columnCustomDisplayInfos": {},
       "data": [],
       "datasetInfos": [],
       "dbfsResultPath": null,
       "isJsonSchema": true,
       "metadata": {
        "dataframeName": null
       },
       "overflow": false,
       "plotOptions": {
        "customPlotOptions": {},
        "displayType": "table",
        "pivotAggregation": null,
        "pivotColumns": null,
        "xColumns": null,
        "yColumns": null
       },
       "removedWidgets": [],
       "schema": [],
       "type": "table"
      }
     },
     "output_type": "display_data"
    }
   ],
   "source": [
    "%sql\n",
    "DROP TABLE IF EXISTS ctl_krypto.gold_schema.Dim_Price_Extremes;\n",
    "\n",
    "CREATE TABLE ctl_krypto.gold_schema.Dim_Price_Extremes (\n",
    "    crypto_id STRING,\n",
    "    ath STRING,\n",
    "    ath_change_percentage DOUBLE,\n",
    "    ath_date STRING,\n",
    "    atl STRING,\n",
    "    atl_change_percentage DOUBLE,\n",
    "    atl_date STRING,\n",
    "    is_current BOOLEAN,\n",
    "    effective_date TIMESTAMP,\n",
    "    end_date TIMESTAMP\n",
    ")\n",
    "USING DELTA\n",
    "LOCATION 'abfss://gold@kriptostorage003.dfs.core.windows.net/gold_kripto/Dim_Price_Extremes/';"
   ]
  },
  {
   "cell_type": "code",
   "execution_count": 0,
   "metadata": {
    "application/vnd.databricks.v1+cell": {
     "cellMetadata": {
      "byteLimit": 2048000,
      "implicitDf": true,
      "rowLimit": 10000
     },
     "inputWidgets": {},
     "nuid": "50d3c822-e299-4f5b-81df-e8d764368f0d",
     "showTitle": false,
     "tableResultSettingsMap": {},
     "title": ""
    }
   },
   "outputs": [
    {
     "data": {
      "text/html": [
       "<style scoped>\n",
       "  .table-result-container {\n",
       "    max-height: 300px;\n",
       "    overflow: auto;\n",
       "  }\n",
       "  table, th, td {\n",
       "    border: 1px solid black;\n",
       "    border-collapse: collapse;\n",
       "  }\n",
       "  th, td {\n",
       "    padding: 5px;\n",
       "  }\n",
       "  th {\n",
       "    text-align: left;\n",
       "  }\n",
       "</style><div class='table-result-container'><table class='table-result'><thead style='background-color: white'><tr></tr></thead><tbody></tbody></table></div>"
      ]
     },
     "metadata": {
      "application/vnd.databricks.v1+output": {
       "addedWidgets": {},
       "aggData": [],
       "aggError": "",
       "aggOverflow": false,
       "aggSchema": [],
       "aggSeriesLimitReached": false,
       "aggType": "",
       "arguments": {},
       "columnCustomDisplayInfos": {},
       "data": [],
       "datasetInfos": [],
       "dbfsResultPath": null,
       "isJsonSchema": true,
       "metadata": {
        "dataframeName": null
       },
       "overflow": false,
       "plotOptions": {
        "customPlotOptions": {},
        "displayType": "table",
        "pivotAggregation": null,
        "pivotColumns": null,
        "xColumns": null,
        "yColumns": null
       },
       "removedWidgets": [],
       "schema": [],
       "type": "table"
      }
     },
     "output_type": "display_data"
    }
   ],
   "source": [
    "%sql\n",
    "CREATE TABLE IF NOT EXISTS ctl_krypto.gold_schema.Fact_Market_Data (\n",
    "    fact_id BIGINT GENERATED ALWAYS AS IDENTITY,\n",
    "\n",
    "    -- Foreign Keys\n",
    "    crypto_id STRING,\n",
    "    date_key DATE,\n",
    "    roi_id BIGINT,\n",
    "\n",
    "    -- Measures\n",
    "    current_price DOUBLE,\n",
    "    market_cap DOUBLE,\n",
    "    market_cap_change_24h DOUBLE,\n",
    "    market_cap_change_percentage_24h DOUBLE,\n",
    "    market_rank INT,\n",
    "    price_change_24h DOUBLE,\n",
    "    price_change_percentage_24h DOUBLE,\n",
    "    circulating_supply DOUBLE,\n",
    "    total_supply DOUBLE,\n",
    "    total_volume DOUBLE,\n",
    "    ingested_time TIMESTAMP,\n",
    "    last_updated TIMESTAMP,\n",
    "    _rescued_data STRING\n",
    ")\n",
    "USING DELTA\n",
    "LOCATION 'abfss://gold@kriptostorage003.dfs.core.windows.net/gold_kripto/Fact_Market_Data/';\n",
    "\n"
   ]
  },
  {
   "cell_type": "code",
   "execution_count": 0,
   "metadata": {
    "application/vnd.databricks.v1+cell": {
     "cellMetadata": {
      "byteLimit": 2048000,
      "rowLimit": 10000
     },
     "inputWidgets": {},
     "nuid": "eff898e5-5475-40eb-b415-75d758d0ac55",
     "showTitle": false,
     "tableResultSettingsMap": {},
     "title": ""
    }
   },
   "outputs": [
    {
     "name": "stdout",
     "output_type": "stream",
     "text": [
      "Merge complete!\n"
     ]
    }
   ],
   "source": [
    "from delta.tables import DeltaTable\n",
    "from pyspark.sql.functions import current_timestamp, lit, col\n",
    "\n",
    "def merge_cleaned_market_data_to_dim_price_extremes():\n",
    "    # Load staging data\n",
    "    staging_df = spark.table(\"ctl_krypto.staging_schema.cleaned_market_data\")\n",
    "\n",
    "    # Filter and rename for consistency with Dim_Price_Extremes\n",
    "    incoming_df = (\n",
    "        staging_df.select(\n",
    "            col(\"id\").alias(\"crypto_id\"),\n",
    "            \"ath\",\n",
    "            \"ath_change_percentage\",\n",
    "            \"ath_date\",\n",
    "            \"atl\",\n",
    "            \"atl_change_percentage\",\n",
    "            \"atl_date\"\n",
    "        )\n",
    "        .withColumn(\"is_current\", lit(True))\n",
    "        .withColumn(\"effective_date\", current_timestamp())\n",
    "        .withColumn(\"end_date\", lit(None).cast(\"timestamp\"))\n",
    "    )\n",
    "\n",
    "    # Define the Delta table to merge into\n",
    "    target_table = DeltaTable.forPath(\n",
    "        spark, \"abfss://gold@kriptostorage003.dfs.core.windows.net/gold_kripto/Dim_Price_Extremes\"\n",
    "    )\n",
    "\n",
    "    # Perform SCD Type 2 merge\n",
    "    target_table.alias(\"target\").merge(\n",
    "        incoming_df.alias(\"source\"),\n",
    "        \"target.crypto_id = source.crypto_id AND target.is_current = true\"\n",
    "    ).whenMatchedUpdate(set={\n",
    "        \"is_current\": lit(False),\n",
    "        \"end_date\": current_timestamp()\n",
    "    }).whenNotMatchedInsert(values={\n",
    "        \"crypto_id\": col(\"source.crypto_id\"),\n",
    "        \"ath\": col(\"source.ath\"),\n",
    "        \"ath_change_percentage\": col(\"source.ath_change_percentage\"),\n",
    "        \"ath_date\": col(\"source.ath_date\"),\n",
    "        \"atl\": col(\"source.atl\"),\n",
    "        \"atl_change_percentage\": col(\"source.atl_change_percentage\"),\n",
    "        \"atl_date\": col(\"source.atl_date\"),\n",
    "        \"is_current\": col(\"source.is_current\"),\n",
    "        \"effective_date\": col(\"source.effective_date\"),\n",
    "        \"end_date\": col(\"source.end_date\")\n",
    "    }).execute()\n",
    "\n",
    "    print(\"Merge complete!\")\n",
    "\n",
    "# Run the function\n",
    "merge_cleaned_market_data_to_dim_price_extremes()"
   ]
  },
  {
   "cell_type": "code",
   "execution_count": 0,
   "metadata": {
    "application/vnd.databricks.v1+cell": {
     "cellMetadata": {
      "byteLimit": 2048000,
      "rowLimit": 10000
     },
     "inputWidgets": {},
     "nuid": "234cc2e8-b1b5-44eb-b072-f431acfd06eb",
     "showTitle": false,
     "tableResultSettingsMap": {},
     "title": ""
    }
   },
   "outputs": [
    {
     "name": "stdout",
     "output_type": "stream",
     "text": [
      "+--------------------+----------+---------------------+--------------------+---------+---------------------+--------------------+----------+--------------------+--------------------+\n",
      "|           crypto_id|       ath|ath_change_percentage|            ath_date|      atl|atl_change_percentage|            atl_date|is_current|      effective_date|            end_date|\n",
      "+--------------------+----------+---------------------+--------------------+---------+---------------------+--------------------+----------+--------------------+--------------------+\n",
      "|       zebec-network|0.00700261|            -25.99487|2025-05-30T03:20:...|6.9854E-4|            641.87447|2024-08-05T13:31:...|     false|2025-08-05 22:55:...|2025-08-05 23:21:...|\n",
      "|          frax-ether|   4084.25|             -9.08596|2024-12-06T20:43:...|  1137.25|            226.50373|2022-11-23T02:25:...|     false|2025-08-05 22:55:...|2025-08-05 23:21:...|\n",
      "|compound-governan...|    910.54|            -94.81147|2021-05-12T02:29:...|    25.74|             83.54006|2023-06-10T16:15:...|     false|2025-08-05 22:55:...|2025-08-05 23:21:...|\n",
      "|          dydx-chain|      4.52|            -86.96306|2024-03-07T22:19:...| 0.418236|             40.85195|2025-06-22T20:22:...|     false|2025-08-05 22:55:...|2025-08-05 23:21:...|\n",
      "|polygon-pos-bridg...|   4090.99|             -7.96174|2024-12-16T18:57:...|  1390.73|            170.74092|2025-04-09T01:31:...|     false|2025-08-05 22:55:...|2025-08-05 23:21:...|\n",
      "|       zebec-network|0.00700261|            -25.99487|2025-05-30T03:20:...|6.9854E-4|            641.87447|2024-08-05T13:31:...|     false|2025-08-05 23:22:...|2025-08-06 10:37:...|\n",
      "|          frax-ether|   4084.25|             -9.08596|2024-12-06T20:43:...|  1137.25|            226.50373|2022-11-23T02:25:...|     false|2025-08-05 23:22:...|2025-08-06 10:37:...|\n",
      "|compound-governan...|    910.54|            -94.81147|2021-05-12T02:29:...|    25.74|             83.54006|2023-06-10T16:15:...|     false|2025-08-05 23:22:...|2025-08-06 10:37:...|\n",
      "|          dydx-chain|      4.52|            -86.96306|2024-03-07T22:19:...| 0.418236|             40.85195|2025-06-22T20:22:...|     false|2025-08-05 23:22:...|2025-08-06 10:37:...|\n",
      "|polygon-pos-bridg...|   4090.99|             -7.96174|2024-12-16T18:57:...|  1390.73|            170.74092|2025-04-09T01:31:...|     false|2025-08-05 23:22:...|2025-08-06 10:37:...|\n",
      "|       zebec-network|0.00700261|            -25.99487|2025-05-30T03:20:...|6.9854E-4|            641.87447|2024-08-05T13:31:...|     false|2025-08-05 16:07:...|2025-08-05 22:37:...|\n",
      "|          frax-ether|   4084.25|             -9.08596|2024-12-06T20:43:...|  1137.25|            226.50373|2022-11-23T02:25:...|     false|2025-08-05 16:07:...|2025-08-05 22:37:...|\n",
      "|compound-governan...|    910.54|            -94.81147|2021-05-12T02:29:...|    25.74|             83.54006|2023-06-10T16:15:...|     false|2025-08-05 16:07:...|2025-08-05 22:37:...|\n",
      "|          dydx-chain|      4.52|            -86.96306|2024-03-07T22:19:...| 0.418236|             40.85195|2025-06-22T20:22:...|     false|2025-08-05 16:07:...|2025-08-05 22:37:...|\n",
      "|polygon-pos-bridg...|   4090.99|             -7.96174|2024-12-16T18:57:...|  1390.73|            170.74092|2025-04-09T01:31:...|     false|2025-08-05 16:07:...|2025-08-05 22:37:...|\n",
      "|       zebec-network|0.00700261|            -25.99487|2025-05-30T03:20:...|6.9854E-4|            641.87447|2024-08-05T13:31:...|     false|2025-07-31 20:30:...|2025-08-05 14:11:...|\n",
      "|          frax-ether|   4084.25|             -9.08596|2024-12-06T20:43:...|  1137.25|            226.50373|2022-11-23T02:25:...|     false|2025-07-31 20:30:...|2025-08-05 14:11:...|\n",
      "|compound-governan...|    910.54|            -94.81147|2021-05-12T02:29:...|    25.74|             83.54006|2023-06-10T16:15:...|     false|2025-07-31 20:30:...|2025-08-05 14:11:...|\n",
      "|          dydx-chain|      4.52|            -86.96306|2024-03-07T22:19:...| 0.418236|             40.85195|2025-06-22T20:22:...|     false|2025-07-31 20:30:...|2025-08-05 14:11:...|\n",
      "|polygon-pos-bridg...|   4090.99|             -7.96174|2024-12-16T18:57:...|  1390.73|            170.74092|2025-04-09T01:31:...|     false|2025-07-31 20:30:...|2025-08-05 14:11:...|\n",
      "+--------------------+----------+---------------------+--------------------+---------+---------------------+--------------------+----------+--------------------+--------------------+\n",
      "only showing top 20 rows\n",
      "\n"
     ]
    }
   ],
   "source": [
    "# If the table is registered in the metastore\n",
    "spark.sql(\"SELECT * FROM ctl_krypto.gold_schema.Dim_Price_Extremes\").show()"
   ]
  },
  {
   "cell_type": "code",
   "execution_count": 0,
   "metadata": {
    "application/vnd.databricks.v1+cell": {
     "cellMetadata": {
      "byteLimit": 2048000,
      "rowLimit": 10000
     },
     "inputWidgets": {},
     "nuid": "43289539-4454-4c1e-954c-46afc36e83a1",
     "showTitle": false,
     "tableResultSettingsMap": {},
     "title": ""
    }
   },
   "outputs": [
    {
     "name": "stdout",
     "output_type": "stream",
     "text": [
      "✅ Merge into Dim_Crypto complete.\n"
     ]
    }
   ],
   "source": [
    "from delta.tables import DeltaTable\n",
    "from pyspark.sql.functions import current_timestamp, lit, col\n",
    "\n",
    "def merge_cleaned_data_to_dim_crypto():\n",
    "    # Load the source data from the staging schema\n",
    "    staging_df = spark.table(\"ctl_krypto.staging_schema.cleaned_market_data\")\n",
    "\n",
    "    # Select and prepare incoming data\n",
    "    incoming_df = (\n",
    "        staging_df.select(\n",
    "            col(\"id\").alias(\"crypto_id\"),\n",
    "            col(\"name\"),\n",
    "            col(\"symbol\"),\n",
    "            col(\"image\"),\n",
    "            col(\"market_cap_category\")\n",
    "        )\n",
    "        .withColumn(\"is_current\", lit(True))\n",
    "        .withColumn(\"effective_date\", current_timestamp())\n",
    "        .withColumn(\"end_date\", lit(None).cast(\"timestamp\"))\n",
    "    )\n",
    "\n",
    "    # Define the Delta table path\n",
    "    target_path = \"abfss://gold@kriptostorage003.dfs.core.windows.net/gold_kripto/Dim_Crypto\"\n",
    "\n",
    "    # Load the target Delta table\n",
    "    target_table = DeltaTable.forPath(spark, target_path)\n",
    "\n",
    "    # Perform SCD Type 2 merge\n",
    "    target_table.alias(\"target\").merge(\n",
    "        incoming_df.alias(\"source\"),\n",
    "        \"target.crypto_id = source.crypto_id AND target.is_current = true\"\n",
    "    ).whenMatchedUpdate(set={\n",
    "        \"is_current\": lit(False),\n",
    "        \"end_date\": current_timestamp()\n",
    "    }).whenNotMatchedInsert(values={\n",
    "        \"crypto_id\": col(\"source.crypto_id\"),\n",
    "        \"name\": col(\"source.name\"),\n",
    "        \"symbol\": col(\"source.symbol\"),\n",
    "        \"image\": col(\"source.image\"),\n",
    "        \"market_cap_category\": col(\"source.market_cap_category\"),\n",
    "        \"is_current\": col(\"source.is_current\"),\n",
    "        \"effective_date\": col(\"source.effective_date\"),\n",
    "        \"end_date\": col(\"source.end_date\")\n",
    "    }).execute()\n",
    "\n",
    "    print(\"✅ Merge into Dim_Crypto complete.\")\n",
    "\n",
    "# Run the function\n",
    "merge_cleaned_data_to_dim_crypto()"
   ]
  },
  {
   "cell_type": "code",
   "execution_count": 0,
   "metadata": {
    "application/vnd.databricks.v1+cell": {
     "cellMetadata": {
      "byteLimit": 2048000,
      "rowLimit": 10000
     },
     "inputWidgets": {},
     "nuid": "9c7df804-6446-43d1-ade1-cc49aebacd8e",
     "showTitle": false,
     "tableResultSettingsMap": {},
     "title": ""
    }
   },
   "outputs": [
    {
     "name": "stdout",
     "output_type": "stream",
     "text": [
      "+------------------------------------+--------------------------------------+------+-------------------------------------------------------------------------------------+-------------------+----------+---------------------+--------+\n",
      "|crypto_id                           |name                                  |symbol|image                                                                                |market_cap_category|is_current|effective_date       |end_date|\n",
      "+------------------------------------+--------------------------------------+------+-------------------------------------------------------------------------------------+-------------------+----------+---------------------+--------+\n",
      "|zebec-network                       |Zebec Network                         |zbcn  |https://coin-images.coingecko.com/coins/images/37052/large/zbcn.jpeg?1713168241      |Small Cap          |true      |2025-08-06 17:07:37.4|NULL    |\n",
      "|frax-ether                          |Frax Ether                            |frxeth|https://coin-images.coingecko.com/coins/images/28284/large/frxETH_icon.png?1696527284|Small Cap          |true      |2025-08-06 17:07:37.4|NULL    |\n",
      "|compound-governance-token           |Compound                              |comp  |https://coin-images.coingecko.com/coins/images/10775/large/COMP.png?1696510737       |Small Cap          |true      |2025-08-06 17:07:37.4|NULL    |\n",
      "|dydx-chain                          |dYdX                                  |dydx  |https://coin-images.coingecko.com/coins/images/32594/large/dydx.png?1698673495       |Small Cap          |true      |2025-08-06 17:07:37.4|NULL    |\n",
      "|polygon-pos-bridged-weth-polygon-pos|Polygon PoS Bridged WETH (Polygon POS)|weth  |https://coin-images.coingecko.com/coins/images/39708/large/WETH.PNG?1723730343       |Small Cap          |true      |2025-08-06 17:07:37.4|NULL    |\n",
      "+------------------------------------+--------------------------------------+------+-------------------------------------------------------------------------------------+-------------------+----------+---------------------+--------+\n",
      "\n"
     ]
    }
   ],
   "source": [
    "from pyspark.sql.functions import col\n",
    "\n",
    "df = spark.read.format(\"delta\").load(\"abfss://gold@kriptostorage003.dfs.core.windows.net/gold_kripto/Dim_Crypto\")\n",
    "\n",
    "df.filter(col(\"is_current\") == True).limit(10).show(truncate=False)"
   ]
  },
  {
   "cell_type": "code",
   "execution_count": 0,
   "metadata": {
    "application/vnd.databricks.v1+cell": {
     "cellMetadata": {
      "byteLimit": 2048000,
      "rowLimit": 10000
     },
     "inputWidgets": {},
     "nuid": "1f00dd9f-d996-4549-b968-ab7416767c69",
     "showTitle": false,
     "tableResultSettingsMap": {},
     "title": ""
    }
   },
   "outputs": [],
   "source": [
    "from pyspark.sql.functions import (\n",
    "    col, explode, sequence, to_date, year, month, dayofmonth,\n",
    "    quarter, dayofweek, date_format\n",
    ")\n",
    "\n",
    "# Generate full calendar range\n",
    "date_df = (\n",
    "    spark.sql(\"SELECT sequence(to_date('2010-01-01'), to_date('2030-12-31'), interval 1 day) AS date_array\")\n",
    "    .withColumn(\"date_key\", explode(col(\"date_array\")))\n",
    "    .drop(\"date_array\")\n",
    ")\n",
    "\n",
    "# Create source (Silver) DataFrame\n",
    "source_df = date_df \\\n",
    "    .withColumn(\"year\", year(\"date_key\")) \\\n",
    "    .withColumn(\"month\", month(\"date_key\")) \\\n",
    "    .withColumn(\"day\", dayofmonth(\"date_key\")) \\\n",
    "    .withColumn(\"quarter\", quarter(\"date_key\")) \\\n",
    "    .withColumn(\"weekday\", dayofweek(\"date_key\")) \\\n",
    "    .withColumn(\"month_name\", date_format(\"date_key\", \"MMMM\")) \\\n",
    "    .withColumn(\"day_of_week\", date_format(\"date_key\", \"EEEE\")) \\\n",
    "    .withColumn(\"full_date_description\", date_format(\"date_key\", \"d MMMM yyyy\")) \\\n",
    "    .select(\n",
    "        \"month_name\", \"day_of_week\", \"full_date_description\", \"date_key\",\n",
    "        \"year\", \"month\", \"day\", \"quarter\", \"weekday\"\n",
    "    )\n"
   ]
  },
  {
   "cell_type": "code",
   "execution_count": 0,
   "metadata": {
    "application/vnd.databricks.v1+cell": {
     "cellMetadata": {
      "byteLimit": 2048000,
      "rowLimit": 10000
     },
     "inputWidgets": {},
     "nuid": "99eb373a-5550-4256-893c-2890c35cf2bd",
     "showTitle": false,
     "tableResultSettingsMap": {},
     "title": ""
    }
   },
   "outputs": [
    {
     "name": "stdout",
     "output_type": "stream",
     "text": [
      "✅ Merge complete into ctl_krypto.gold_schema.Dim_Date\n"
     ]
    }
   ],
   "source": [
    "# Load target (existing Dim_Date)\n",
    "target_df = spark.read.format(\"delta\").table(\"ctl_krypto.gold_schema.Dim_Date\")\n",
    "\n",
    "# Register temporary views for merge\n",
    "source_df.createOrReplaceTempView(\"source_view\")\n",
    "target_df.createOrReplaceTempView(\"target_view\")\n",
    "\n",
    "# Perform Merge (Upsert)\n",
    "spark.sql(\"\"\"\n",
    "MERGE INTO ctl_krypto.gold_schema.Dim_Date AS target\n",
    "USING source_view AS source\n",
    "ON target.date_key = source.date_key\n",
    "\n",
    "WHEN MATCHED THEN UPDATE SET\n",
    "  target.month_name = source.month_name,\n",
    "  target.day_of_week = source.day_of_week,\n",
    "  target.full_date_description = source.full_date_description,\n",
    "  target.year = source.year,\n",
    "  target.month = source.month,\n",
    "  target.day = source.day,\n",
    "  target.quarter = source.quarter,\n",
    "  target.weekday = source.weekday\n",
    "\n",
    "WHEN NOT MATCHED THEN INSERT *\n",
    "\"\"\")\n",
    "\n",
    "print(\"✅ Merge complete into ctl_krypto.gold_schema.Dim_Date\")\n"
   ]
  },
  {
   "cell_type": "code",
   "execution_count": 0,
   "metadata": {
    "application/vnd.databricks.v1+cell": {
     "cellMetadata": {
      "byteLimit": 2048000,
      "implicitDf": true,
      "rowLimit": 10000
     },
     "inputWidgets": {},
     "nuid": "adf5f7ef-8188-463d-930f-beabad687cd7",
     "showTitle": false,
     "tableResultSettingsMap": {},
     "title": ""
    }
   },
   "outputs": [
    {
     "data": {
      "text/html": [
       "<style scoped>\n",
       "  .table-result-container {\n",
       "    max-height: 300px;\n",
       "    overflow: auto;\n",
       "  }\n",
       "  table, th, td {\n",
       "    border: 1px solid black;\n",
       "    border-collapse: collapse;\n",
       "  }\n",
       "  th, td {\n",
       "    padding: 5px;\n",
       "  }\n",
       "  th {\n",
       "    text-align: left;\n",
       "  }\n",
       "</style><div class='table-result-container'><table class='table-result'><thead style='background-color: white'><tr><th>month_name</th><th>day_of_week</th><th>full_date_description</th><th>date_key</th><th>year</th><th>month</th><th>day</th><th>quarter</th><th>weekday</th></tr></thead><tbody><tr><td>January</td><td>Friday</td><td>1 January 2010</td><td>2010-01-01</td><td>2010</td><td>1</td><td>1</td><td>1</td><td>6</td></tr><tr><td>January</td><td>Saturday</td><td>2 January 2010</td><td>2010-01-02</td><td>2010</td><td>1</td><td>2</td><td>1</td><td>7</td></tr><tr><td>January</td><td>Sunday</td><td>3 January 2010</td><td>2010-01-03</td><td>2010</td><td>1</td><td>3</td><td>1</td><td>1</td></tr><tr><td>January</td><td>Monday</td><td>4 January 2010</td><td>2010-01-04</td><td>2010</td><td>1</td><td>4</td><td>1</td><td>2</td></tr><tr><td>January</td><td>Tuesday</td><td>5 January 2010</td><td>2010-01-05</td><td>2010</td><td>1</td><td>5</td><td>1</td><td>3</td></tr><tr><td>January</td><td>Wednesday</td><td>6 January 2010</td><td>2010-01-06</td><td>2010</td><td>1</td><td>6</td><td>1</td><td>4</td></tr></tbody></table></div>"
      ]
     },
     "metadata": {
      "application/vnd.databricks.v1+output": {
       "addedWidgets": {},
       "aggData": [],
       "aggError": "",
       "aggOverflow": false,
       "aggSchema": [],
       "aggSeriesLimitReached": false,
       "aggType": "",
       "arguments": {},
       "columnCustomDisplayInfos": {},
       "data": [
        [
         "January",
         "Friday",
         "1 January 2010",
         "2010-01-01",
         2010,
         1,
         1,
         1,
         6
        ],
        [
         "January",
         "Saturday",
         "2 January 2010",
         "2010-01-02",
         2010,
         1,
         2,
         1,
         7
        ],
        [
         "January",
         "Sunday",
         "3 January 2010",
         "2010-01-03",
         2010,
         1,
         3,
         1,
         1
        ],
        [
         "January",
         "Monday",
         "4 January 2010",
         "2010-01-04",
         2010,
         1,
         4,
         1,
         2
        ],
        [
         "January",
         "Tuesday",
         "5 January 2010",
         "2010-01-05",
         2010,
         1,
         5,
         1,
         3
        ],
        [
         "January",
         "Wednesday",
         "6 January 2010",
         "2010-01-06",
         2010,
         1,
         6,
         1,
         4
        ]
       ],
       "datasetInfos": [],
       "dbfsResultPath": null,
       "isJsonSchema": true,
       "metadata": {
        "createTempViewForImplicitDf": true,
        "dataframeName": "_sqldf",
        "executionCount": 72
       },
       "overflow": false,
       "plotOptions": {
        "customPlotOptions": {},
        "displayType": "table",
        "pivotAggregation": null,
        "pivotColumns": null,
        "xColumns": null,
        "yColumns": null
       },
       "removedWidgets": [],
       "schema": [
        {
         "metadata": "{}",
         "name": "month_name",
         "type": "\"string\""
        },
        {
         "metadata": "{}",
         "name": "day_of_week",
         "type": "\"string\""
        },
        {
         "metadata": "{}",
         "name": "full_date_description",
         "type": "\"string\""
        },
        {
         "metadata": "{}",
         "name": "date_key",
         "type": "\"date\""
        },
        {
         "metadata": "{}",
         "name": "year",
         "type": "\"integer\""
        },
        {
         "metadata": "{}",
         "name": "month",
         "type": "\"integer\""
        },
        {
         "metadata": "{}",
         "name": "day",
         "type": "\"integer\""
        },
        {
         "metadata": "{}",
         "name": "quarter",
         "type": "\"integer\""
        },
        {
         "metadata": "{}",
         "name": "weekday",
         "type": "\"integer\""
        }
       ],
       "type": "table"
      }
     },
     "output_type": "display_data"
    }
   ],
   "source": [
    "%sql\n",
    "SELECT * FROM ctl_krypto.gold_schema.Dim_Date\n",
    "LIMIT 6;"
   ]
  },
  {
   "cell_type": "code",
   "execution_count": 0,
   "metadata": {
    "application/vnd.databricks.v1+cell": {
     "cellMetadata": {
      "byteLimit": 2048000,
      "rowLimit": 10000
     },
     "inputWidgets": {},
     "nuid": "78595610-630f-46c3-8a0c-69bfe5d56fee",
     "showTitle": false,
     "tableResultSettingsMap": {},
     "title": ""
    }
   },
   "outputs": [
    {
     "name": "stdout",
     "output_type": "stream",
     "text": [
      "Merge into Dim_CryptoSupply complete.\n"
     ]
    }
   ],
   "source": [
    "from delta.tables import DeltaTable\n",
    "from pyspark.sql.functions import col\n",
    "\n",
    "def merge_cleaned_data_to_dim_crypto_supply():\n",
    "    # Load source data from staging (adjust table name accordingly)\n",
    "    source_df = spark.table(\"ctl_krypto.staging_schema.cleaned_market_data\")\n",
    "\n",
    "    # Select and clean the relevant supply fields (adjust column names as needed)\n",
    "    incoming_df = (\n",
    "        source_df.select(\"id\", \"total_supply\", \"total_volume\", \"max_supply\")\n",
    "        .withColumnRenamed(\"id\", \"crypto_id\")  # Rename to match your dimension table PK\n",
    "        .dropna(subset=[\"crypto_id\"])           # Ensure PK is not null\n",
    "        .distinct()\n",
    "    )\n",
    "\n",
    "    # Path to Delta table for Dim_CryptoSupply\n",
    "    target_path = \"abfss://gold@kriptostorage003.dfs.core.windows.net/gold_kripto/Dim_CryptoSupply\"\n",
    "    target_table = DeltaTable.forPath(spark, target_path)\n",
    "\n",
    "    # Merge logic based on crypto_id\n",
    "    target_table.alias(\"target\").merge(\n",
    "        incoming_df.alias(\"source\"),\n",
    "        \"target.crypto_id = source.crypto_id\"\n",
    "    ).whenMatchedUpdate(set={\n",
    "        \"total_supply\": col(\"source.total_supply\"),\n",
    "        \"total_volume\": col(\"source.total_volume\"),\n",
    "        \"max_supply\": col(\"source.max_supply\")\n",
    "    }).whenNotMatchedInsert(values={\n",
    "        \"crypto_id\": col(\"source.crypto_id\"),\n",
    "        \"total_supply\": col(\"source.total_supply\"),\n",
    "        \"total_volume\": col(\"source.total_volume\"),\n",
    "        \"max_supply\": col(\"source.max_supply\")\n",
    "    }).execute()\n",
    "\n",
    "    print(\"Merge into Dim_CryptoSupply complete.\")\n",
    "\n",
    "# Run the merge function\n",
    "merge_cleaned_data_to_dim_crypto_supply()\n"
   ]
  },
  {
   "cell_type": "code",
   "execution_count": 0,
   "metadata": {
    "application/vnd.databricks.v1+cell": {
     "cellMetadata": {
      "byteLimit": 2048000,
      "rowLimit": 10000
     },
     "inputWidgets": {},
     "nuid": "b60f1983-b136-4e89-8f99-5f53cb065f79",
     "showTitle": false,
     "tableResultSettingsMap": {},
     "title": ""
    }
   },
   "outputs": [
    {
     "name": "stdout",
     "output_type": "stream",
     "text": [
      "+------------------------------------+--------------------+------------+----------+\n",
      "|crypto_id                           |total_supply        |total_volume|max_supply|\n",
      "+------------------------------------+--------------------+------------+----------+\n",
      "|frax-ether                          |120228.1619903289   |1880446.0   |0.0       |\n",
      "|dydx-chain                          |9.58342751E8        |1.276708E7  |1.0E9     |\n",
      "|polygon-pos-bridged-weth-polygon-pos|116647.3592901615   |2.1106388E7 |0.0       |\n",
      "|zebec-network                       |9.999885132512544E10|7.0864075E7 |1.0E11    |\n",
      "|compound-governance-token           |1.0E7               |5.998045E7  |1.0E7     |\n",
      "+------------------------------------+--------------------+------------+----------+\n",
      "\n"
     ]
    }
   ],
   "source": [
    "# Load and display the Dim_CryptoSupply table\n",
    "df = spark.read.format(\"delta\").load(\"abfss://gold@kriptostorage003.dfs.core.windows.net/gold_kripto/Dim_CryptoSupply\")\n",
    "df.show(truncate=False)"
   ]
  },
  {
   "cell_type": "code",
   "execution_count": 0,
   "metadata": {
    "application/vnd.databricks.v1+cell": {
     "cellMetadata": {
      "byteLimit": 2048000,
      "rowLimit": 10000
     },
     "inputWidgets": {},
     "nuid": "efd328c0-f309-4b00-9b61-277bf0070181",
     "showTitle": false,
     "tableResultSettingsMap": {},
     "title": ""
    }
   },
   "outputs": [
    {
     "name": "stdout",
     "output_type": "stream",
     "text": [
      "Merge into Fact_Market_Data complete.\n"
     ]
    }
   ],
   "source": [
    "from pyspark.sql.functions import col, lit\n",
    "\n",
    "def merge_fact_market_data():\n",
    "    source_df = spark.table(\"ctl_krypto.staging_schema.cleaned_market_data\")\n",
    "    target_path = \"abfss://gold@kriptostorage003.dfs.core.windows.net/gold_kripto/Fact_Market_Data\"\n",
    "    target_table = DeltaTable.forPath(spark, target_path)\n",
    "\n",
    "    merge_condition = \"\"\"\n",
    "        target.crypto_id = source.id AND\n",
    "        target.date_key = source.date_partition\n",
    "    \"\"\"\n",
    "\n",
    "    target_table.alias(\"target\").merge(\n",
    "        source_df.alias(\"source\"),\n",
    "        merge_condition\n",
    "    ).whenMatchedUpdate(set={\n",
    "        \"ingested_time\": col(\"source.ingested_time\"),\n",
    "        \"last_updated\": col(\"source.last_updated\"),\n",
    "        \"_rescued_data\": col(\"source._rescued_data\"),\n",
    "        \"current_price\": col(\"source.current_price\"),\n",
    "        \"market_cap\": col(\"source.market_cap\"),\n",
    "        \"market_cap_change_24h\": col(\"source.market_cap_change_24h\"),\n",
    "        \"market_cap_change_percentage_24h\": col(\"source.market_cap_change_percentage_24h\"),\n",
    "        \"market_rank\": col(\"source.market_rank\"),\n",
    "        \"price_change_24h\": col(\"source.price_change_24h\"),\n",
    "        \"price_change_percentage_24h\": col(\"source.price_change_percentage_24h\"),\n",
    "        \"circulating_supply\": col(\"source.circulating_supply\"),\n",
    "        \"total_supply\": col(\"source.total_supply\"),\n",
    "        \"total_volume\": col(\"source.total_volume\"),\n",
    "    }).whenNotMatchedInsert(values={\n",
    "        \"crypto_id\": col(\"source.id\"),\n",
    "        \"date_key\": col(\"source.date_partition\"),\n",
    "        \"roi_id\": lit(None),  # Correct way to insert NULL value\n",
    "        \"ingested_time\": col(\"source.ingested_time\"),\n",
    "        \"last_updated\": col(\"source.last_updated\"),\n",
    "        \"_rescued_data\": col(\"source._rescued_data\"),\n",
    "        \"current_price\": col(\"source.current_price\"),\n",
    "        \"market_cap\": col(\"source.market_cap\"),\n",
    "        \"market_cap_change_24h\": col(\"source.market_cap_change_24h\"),\n",
    "        \"market_cap_change_percentage_24h\": col(\"source.market_cap_change_percentage_24h\"),\n",
    "        \"market_rank\": col(\"source.market_rank\"),\n",
    "        \"price_change_24h\": col(\"source.price_change_24h\"),\n",
    "        \"price_change_percentage_24h\": col(\"source.price_change_percentage_24h\"),\n",
    "        \"circulating_supply\": col(\"source.circulating_supply\"),\n",
    "        \"total_supply\": col(\"source.total_supply\"),\n",
    "        \"total_volume\": col(\"source.total_volume\"),\n",
    "    }).execute()\n",
    "\n",
    "    print(\"Merge into Fact_Market_Data complete.\")\n",
    "\n",
    "merge_fact_market_data()\n"
   ]
  },
  {
   "cell_type": "code",
   "execution_count": 0,
   "metadata": {
    "application/vnd.databricks.v1+cell": {
     "cellMetadata": {
      "byteLimit": 2048000,
      "implicitDf": true,
      "rowLimit": 10000
     },
     "inputWidgets": {},
     "nuid": "4696fedd-65bf-42c4-a5f7-e2f589fcfef5",
     "showTitle": false,
     "tableResultSettingsMap": {
      "0": {
       "dataGridStateBlob": "{\"version\":1,\"tableState\":{\"columnPinning\":{\"left\":[\"#row_number#\"],\"right\":[]},\"columnSizing\":{\"#row_number#\":101},\"columnVisibility\":{}},\"settings\":{\"columns\":{}},\"syncTimestamp\":1754502086745}",
       "filterBlob": null,
       "queryPlanFiltersBlob": null,
       "tableResultIndex": 0
      }
     },
     "title": ""
    }
   },
   "outputs": [
    {
     "data": {
      "text/html": [
       "<style scoped>\n",
       "  .table-result-container {\n",
       "    max-height: 300px;\n",
       "    overflow: auto;\n",
       "  }\n",
       "  table, th, td {\n",
       "    border: 1px solid black;\n",
       "    border-collapse: collapse;\n",
       "  }\n",
       "  th, td {\n",
       "    padding: 5px;\n",
       "  }\n",
       "  th {\n",
       "    text-align: left;\n",
       "  }\n",
       "</style><div class='table-result-container'><table class='table-result'><thead style='background-color: white'><tr><th>fact_id</th><th>crypto_id</th><th>date_key</th><th>roi_id</th><th>current_price</th><th>market_cap</th><th>market_cap_change_24h</th><th>market_cap_change_percentage_24h</th><th>market_rank</th><th>price_change_24h</th><th>price_change_percentage_24h</th><th>circulating_supply</th><th>total_supply</th><th>total_volume</th><th>ingested_time</th><th>last_updated</th><th>_rescued_data</th></tr></thead><tbody><tr><td>1</td><td>zebec-network</td><td>2025-07-29</td><td>null</td><td>0.005173</td><td>4.46755253E8</td><td>6.5278998E7</td><td>17.1122</td><td>188</td><td>7.6497E-4</td><td>17.35395</td><td>8.630692519557034E10</td><td>9.999885132512544E10</td><td>7.0864075E7</td><td>2025-07-31T09:37:07.791Z</td><td>2025-07-29T19:45:23.934Z</td><td>null</td></tr><tr><td>2</td><td>frax-ether</td><td>2025-07-29</td><td>null</td><td>3713.16</td><td>4.46273223E8</td><td>-8940809.777430296</td><td>-1.96409</td><td>189</td><td>-72.10275192251129</td><td>-1.90483</td><td>120228.1619903289</td><td>120228.1619903289</td><td>1880446.0</td><td>2025-07-31T09:37:07.791Z</td><td>2025-07-29T19:45:22.537Z</td><td>null</td></tr><tr><td>3</td><td>compound-governance-token</td><td>2025-07-29</td><td>null</td><td>47.26</td><td>4.43838047E8</td><td>-1.769524276238191E7</td><td>-3.83401</td><td>190</td><td>-1.8217469941707591</td><td>-3.71185</td><td>9395611.377689738</td><td>1.0E7</td><td>5.998045E7</td><td>2025-07-31T09:37:07.791Z</td><td>2025-07-29T19:45:13.018Z</td><td>null</td></tr><tr><td>4</td><td>dydx-chain</td><td>2025-07-29</td><td>null</td><td>0.588435</td><td>4.43512038E8</td><td>-1.7699757301310778E7</td><td>-3.83766</td><td>191</td><td>-0.02299086811702411</td><td>-3.76021</td><td>7.535168967490065E8</td><td>9.58342751E8</td><td>1.276708E7</td><td>2025-07-31T09:37:07.791Z</td><td>2025-07-29T19:45:14.927Z</td><td>null</td></tr><tr><td>5</td><td>polygon-pos-bridged-weth-polygon-pos</td><td>2025-07-29</td><td>null</td><td>3768.94</td><td>4.38959975E8</td><td>-3217889.029682696</td><td>-0.72774</td><td>192</td><td>-6.71626630910032</td><td>-0.17788</td><td>116697.1033546364</td><td>116647.3592901615</td><td>2.1106388E7</td><td>2025-07-31T09:37:07.791Z</td><td>2025-07-29T19:45:12.373Z</td><td>null</td></tr></tbody></table></div>"
      ]
     },
     "metadata": {
      "application/vnd.databricks.v1+output": {
       "addedWidgets": {},
       "aggData": [],
       "aggError": "",
       "aggOverflow": false,
       "aggSchema": [],
       "aggSeriesLimitReached": false,
       "aggType": "",
       "arguments": {},
       "columnCustomDisplayInfos": {},
       "data": [
        [
         1,
         "zebec-network",
         "2025-07-29",
         null,
         0.005173,
         446755253,
         65278998,
         17.1122,
         188,
         0.00076497,
         17.35395,
         86306925195.57034,
         99998851325.12544,
         70864075,
         "2025-07-31T09:37:07.791Z",
         "2025-07-29T19:45:23.934Z",
         null
        ],
        [
         2,
         "frax-ether",
         "2025-07-29",
         null,
         3713.16,
         446273223,
         -8940809.777430296,
         -1.96409,
         189,
         -72.10275192251129,
         -1.90483,
         120228.1619903289,
         120228.1619903289,
         1880446,
         "2025-07-31T09:37:07.791Z",
         "2025-07-29T19:45:22.537Z",
         null
        ],
        [
         3,
         "compound-governance-token",
         "2025-07-29",
         null,
         47.26,
         443838047,
         -17695242.76238191,
         -3.83401,
         190,
         -1.8217469941707591,
         -3.71185,
         9395611.377689738,
         10000000,
         59980450,
         "2025-07-31T09:37:07.791Z",
         "2025-07-29T19:45:13.018Z",
         null
        ],
        [
         4,
         "dydx-chain",
         "2025-07-29",
         null,
         0.588435,
         443512038,
         -17699757.301310778,
         -3.83766,
         191,
         -0.02299086811702411,
         -3.76021,
         753516896.7490065,
         958342751,
         12767080,
         "2025-07-31T09:37:07.791Z",
         "2025-07-29T19:45:14.927Z",
         null
        ],
        [
         5,
         "polygon-pos-bridged-weth-polygon-pos",
         "2025-07-29",
         null,
         3768.94,
         438959975,
         -3217889.029682696,
         -0.72774,
         192,
         -6.71626630910032,
         -0.17788,
         116697.1033546364,
         116647.3592901615,
         21106388,
         "2025-07-31T09:37:07.791Z",
         "2025-07-29T19:45:12.373Z",
         null
        ]
       ],
       "datasetInfos": [],
       "dbfsResultPath": null,
       "isJsonSchema": true,
       "metadata": {
        "createTempViewForImplicitDf": true,
        "dataframeName": "_sqldf",
        "executionCount": 17
       },
       "overflow": false,
       "plotOptions": {
        "customPlotOptions": {},
        "displayType": "table",
        "pivotAggregation": null,
        "pivotColumns": null,
        "xColumns": null,
        "yColumns": null
       },
       "removedWidgets": [],
       "schema": [
        {
         "metadata": "{}",
         "name": "fact_id",
         "type": "\"long\""
        },
        {
         "metadata": "{}",
         "name": "crypto_id",
         "type": "\"string\""
        },
        {
         "metadata": "{}",
         "name": "date_key",
         "type": "\"date\""
        },
        {
         "metadata": "{}",
         "name": "roi_id",
         "type": "\"long\""
        },
        {
         "metadata": "{}",
         "name": "current_price",
         "type": "\"double\""
        },
        {
         "metadata": "{}",
         "name": "market_cap",
         "type": "\"double\""
        },
        {
         "metadata": "{}",
         "name": "market_cap_change_24h",
         "type": "\"double\""
        },
        {
         "metadata": "{}",
         "name": "market_cap_change_percentage_24h",
         "type": "\"double\""
        },
        {
         "metadata": "{}",
         "name": "market_rank",
         "type": "\"integer\""
        },
        {
         "metadata": "{}",
         "name": "price_change_24h",
         "type": "\"double\""
        },
        {
         "metadata": "{}",
         "name": "price_change_percentage_24h",
         "type": "\"double\""
        },
        {
         "metadata": "{}",
         "name": "circulating_supply",
         "type": "\"double\""
        },
        {
         "metadata": "{}",
         "name": "total_supply",
         "type": "\"double\""
        },
        {
         "metadata": "{}",
         "name": "total_volume",
         "type": "\"double\""
        },
        {
         "metadata": "{}",
         "name": "ingested_time",
         "type": "\"timestamp\""
        },
        {
         "metadata": "{}",
         "name": "last_updated",
         "type": "\"timestamp\""
        },
        {
         "metadata": "{}",
         "name": "_rescued_data",
         "type": "\"string\""
        }
       ],
       "type": "table"
      }
     },
     "output_type": "display_data"
    }
   ],
   "source": [
    "%sql\n",
    "SELECT * FROM ctl_krypto.gold_schema.Fact_Market_Data\n",
    "ORDER BY ingested_time DESC\n",
    "LIMIT 100;"
   ]
  },
  {
   "cell_type": "code",
   "execution_count": 0,
   "metadata": {
    "application/vnd.databricks.v1+cell": {
     "cellMetadata": {
      "byteLimit": 2048000,
      "rowLimit": 10000
     },
     "inputWidgets": {},
     "nuid": "7849d0a1-5a3e-496f-a062-010d9bcb197b",
     "showTitle": false,
     "tableResultSettingsMap": {},
     "title": ""
    }
   },
   "outputs": [],
   "source": [
    "df = spark.read.format(\"delta\").table(\"ctl_krypto.gold_schema.Dim_Price_Extremes\")\n",
    "\n",
    "csv_path = \"/mnt/output/Dim_Price_Extremes_csv\"\n",
    "\n",
    "df.write.mode(\"overwrite\").option(\"header\", \"true\").csv(csv_path)"
   ]
  },
  {
   "cell_type": "code",
   "execution_count": 0,
   "metadata": {
    "application/vnd.databricks.v1+cell": {
     "cellMetadata": {
      "byteLimit": 2048000,
      "rowLimit": 10000
     },
     "inputWidgets": {},
     "nuid": "c3662fe4-048f-4eca-9812-c4556b34962b",
     "showTitle": false,
     "tableResultSettingsMap": {},
     "title": ""
    }
   },
   "outputs": [],
   "source": [
    "from pyspark.sql.functions import col\n",
    "\n",
    "# 1. Read CSV into DataFrame \n",
    "csv_path = \"/mnt/output/Dim_Price_Extremes_csv\"\n",
    "df = spark.read.option(\"header\", \"true\").csv(csv_path)\n",
    "\n",
    "# 2. Cast columns as needed\n",
    "df = df.withColumn('ath', col('ath').cast('decimal(18,6)')) \\\n",
    "       .withColumn('ath_change_percentage', col('ath_change_percentage').cast('float')) \\\n",
    "       .withColumn('ath_date', col('ath_date').cast('timestamp')) \\\n",
    "       .withColumn('atl', col('atl').cast('decimal(18,6)')) \\\n",
    "       .withColumn('atl_change_percentage', col('atl_change_percentage').cast('float')) \\\n",
    "       .withColumn('atl_date', col('atl_date').cast('timestamp')) \\\n",
    "       .withColumn('is_current', col('is_current').cast('boolean')) \\\n",
    "       .withColumn('effective_date', col('effective_date').cast('timestamp')) \\\n",
    "       .withColumn('end_date', col('end_date').cast('timestamp'))\n",
    "\n",
    "# 3. Define JDBC connection parameters\n",
    "jdbc_url = \"jdbc:sqlserver\"\n",
    "connection_properties = {\n",
    "    \"user\": \"\",\n",
    "    \"password\": \"\",\n",
    "    \"driver\": \"com.microsoft.sqlserver.jdbc.SQLServerDriver\"\n",
    "}\n",
    "\n",
    "# 4. Write DataFrame to Azure SQL table (append mode)\n",
    "df.write.jdbc(\n",
    "    url=jdbc_url,\n",
    "    table=\"gold_schema.Dim_Price_Extremes\",\n",
    "    mode=\"append\",\n",
    "    properties=connection_properties\n",
    ")"
   ]
  },
  {
   "cell_type": "code",
   "execution_count": 0,
   "metadata": {
    "application/vnd.databricks.v1+cell": {
     "cellMetadata": {},
     "inputWidgets": {},
     "nuid": "5bf20016-240a-4a99-a482-6e7a749be15f",
     "showTitle": false,
     "tableResultSettingsMap": {},
     "title": ""
    }
   },
   "outputs": [],
   "source": [
    "# Load Delta table into DataFrame\n",
    "df = spark.read.format(\"delta\").table(\"ctl_krypto.gold_schema.Dim_Price_Extremes\")\n",
    "\n",
    "# Define JDBC connection parameters\n",
    "jdbc_url = \"jdbc:sqlserver://\"\n",
    "\n",
    "connection_properties = {\n",
    "    \"user\": \"Barth40\",\n",
    "    \"password\": \"\",\n",
    "    \"driver\": \"com.microsoft.sqlserver.jdbc.SQLServerDriver\"\n",
    "}\n",
    "\n",
    "# Write to Azure SQL (append mode)\n",
    "df.write.jdbc(\n",
    "    url=jdbc_url,\n",
    "    table=\"gold_schema.Dim_Price_Extremes\",  # Ensure this table exists with matching schema\n",
    "    mode=\"append\",\n",
    "    properties=connection_properties\n",
    ")"
   ]
  },
  {
   "cell_type": "code",
   "execution_count": 0,
   "metadata": {
    "application/vnd.databricks.v1+cell": {
     "cellMetadata": {
      "byteLimit": 2048000,
      "rowLimit": 10000
     },
     "inputWidgets": {},
     "nuid": "ef49c72c-1991-4131-94ed-6e4d7b110f52",
     "showTitle": false,
     "tableResultSettingsMap": {},
     "title": ""
    }
   },
   "outputs": [
    {
     "name": "stdout",
     "output_type": "stream",
     "text": [
      "root\n",
      " |-- month_name: string (nullable = true)\n",
      " |-- day_of_week: string (nullable = true)\n",
      " |-- full_date_description: string (nullable = true)\n",
      " |-- date_key: date (nullable = true)\n",
      " |-- year: integer (nullable = true)\n",
      " |-- month: integer (nullable = true)\n",
      " |-- day: integer (nullable = true)\n",
      " |-- quarter: integer (nullable = true)\n",
      " |-- weekday: integer (nullable = true)\n",
      "\n",
      "+----------+-----------+---------------------+----------+----+-----+---+-------+-------+\n",
      "|month_name|day_of_week|full_date_description|  date_key|year|month|day|quarter|weekday|\n",
      "+----------+-----------+---------------------+----------+----+-----+---+-------+-------+\n",
      "|   January|     Friday|       1 January 2010|2010-01-01|2010|    1|  1|      1|      6|\n",
      "|   January|   Saturday|       2 January 2010|2010-01-02|2010|    1|  2|      1|      7|\n",
      "|   January|     Sunday|       3 January 2010|2010-01-03|2010|    1|  3|      1|      1|\n",
      "|   January|     Monday|       4 January 2010|2010-01-04|2010|    1|  4|      1|      2|\n",
      "|   January|    Tuesday|       5 January 2010|2010-01-05|2010|    1|  5|      1|      3|\n",
      "+----------+-----------+---------------------+----------+----+-----+---+-------+-------+\n",
      "only showing top 5 rows\n",
      "\n"
     ]
    }
   ],
   "source": [
    "df_date = spark.read.format(\"delta\").table(\"ctl_krypto.gold_schema.Dim_Date\")\n",
    "df_date.printSchema()\n",
    "df_date.show(5)"
   ]
  },
  {
   "cell_type": "code",
   "execution_count": 0,
   "metadata": {
    "application/vnd.databricks.v1+cell": {
     "cellMetadata": {
      "byteLimit": 2048000,
      "rowLimit": 10000
     },
     "inputWidgets": {},
     "nuid": "a078241c-0880-43d9-b0d1-3bdd21ceb126",
     "showTitle": false,
     "tableResultSettingsMap": {},
     "title": ""
    }
   },
   "outputs": [],
   "source": [
    "\n",
    "\n",
    "from pyspark.sql.functions import col, date_format, when\n",
    "\n",
    "# Read your delta table\n",
    "df_date = spark.read.format(\"delta\").table(\"ctl_krypto.gold_schema.Dim_Date\")\n",
    "\n",
    "# Transform columns to match Azure SQL schema\n",
    "df_date = df_date.withColumn(\"DateKey\", date_format(col(\"date_key\"), \"yyyyMMdd\").cast(\"int\")) \\\n",
    "                 .withColumnRenamed(\"month_name\", \"MonthName\") \\\n",
    "                 .withColumnRenamed(\"day_of_week\", \"DayName\") \\\n",
    "                 .withColumnRenamed(\"date_key\", \"FullDate\") \\\n",
    "                 .withColumnRenamed(\"year\", \"Year\") \\\n",
    "                 .withColumnRenamed(\"month\", \"Month\") \\\n",
    "                 .withColumnRenamed(\"quarter\", \"Quarter\") \\\n",
    "                 .withColumnRenamed(\"weekday\", \"DayOfWeek\") \\\n",
    "                 .withColumn(\"IsWeekend\", when(col(\"DayOfWeek\").isin([1,7]), True).otherwise(False)) \\\n",
    "                 .drop(\"day\", \"full_date_description\")\n",
    "\n",
    "# Cast columns to appropriate types\n",
    "df_date = df_date.withColumn(\"FullDate\", col(\"FullDate\").cast(\"date\")) \\\n",
    "                 .withColumn(\"DayOfWeek\", col(\"DayOfWeek\").cast(\"int\")) \\\n",
    "                 .withColumn(\"DayName\", col(\"DayName\").cast(\"string\")) \\\n",
    "                 .withColumn(\"Month\", col(\"Month\").cast(\"int\")) \\\n",
    "                 .withColumn(\"MonthName\", col(\"MonthName\").cast(\"string\")) \\\n",
    "                 .withColumn(\"Quarter\", col(\"Quarter\").cast(\"int\")) \\\n",
    "                 .withColumn(\"Year\", col(\"Year\").cast(\"int\")) \\\n",
    "                 .withColumn(\"IsWeekend\", col(\"IsWeekend\").cast(\"boolean\"))\n",
    "\n",
    "# JDBC connection parameters\n",
    "jdbc_url = \"jdbc:sqlserver://\"\n",
    "connection_properties = {\n",
    "    \"user\": \"\",\n",
    "    \"password\": \"Gra@barth45\",\n",
    "    \"driver\": \"com.microsoft.sqlserver.jdbc.SQLServerDriver\"\n",
    "}\n",
    "\n",
    "# Write to Azure SQL table\n",
    "df_date.write.jdbc(\n",
    "    url=jdbc_url,\n",
    "    table=\"gold_schema.Dim_Date\",\n",
    "    mode=\"append\",\n",
    "    properties=connection_properties\n",
    ")\n"
   ]
  },
  {
   "cell_type": "code",
   "execution_count": 0,
   "metadata": {
    "application/vnd.databricks.v1+cell": {
     "cellMetadata": {
      "byteLimit": 2048000,
      "rowLimit": 10000
     },
     "inputWidgets": {},
     "nuid": "1a801595-5e1a-4dc4-b2be-393aeafedf78",
     "showTitle": false,
     "tableResultSettingsMap": {},
     "title": ""
    }
   },
   "outputs": [],
   "source": [
    "from pyspark.sql.functions import col\n",
    "\n",
    "# Define the CSV output path\n",
    "csv_path_crypto = \"/mnt/output/Dim_CryptoSupply_csv\"\n",
    "\n",
    "# Write DataFrame to CSV with header, overwrite if exists\n",
    "df_crypto.write.mode(\"overwrite\").option(\"header\", \"true\").csv(csv_path_crypto)\n",
    "\n",
    "# Read CSV back into a new DataFrame\n",
    "df_crypto_csv = spark.read.option(\"header\", \"true\").csv(csv_path_crypto)\n",
    "\n",
    "# Cast columns to correct types\n",
    "df_crypto_csv = df_crypto_csv.withColumn(\"crypto_id\", col(\"crypto_id\").cast(\"string\")) \\\n",
    "                             .withColumn(\"total_supply\", col(\"total_supply\").cast(\"decimal(38,8)\")) \\\n",
    "                             .withColumn(\"total_volume\", col(\"total_volume\").cast(\"decimal(38,8)\")) \\\n",
    "                             .withColumn(\"max_supply\", col(\"max_supply\").cast(\"decimal(38,8)\"))\n",
    "\n",
    "# JDBC connection parameters\n",
    "jdbc_url = \"jdbc:sqlserver://\"\n",
    "\n",
    "connection_properties = {\n",
    "    \"user\": \"\",\n",
    "    \"password\": \"\",\n",
    "    \"driver\": \"com.microsoft.sqlserver.jdbc.SQLServerDriver\"\n",
    "}\n",
    "\n",
    "# Write to Azure SQL (append mode)\n",
    "df_crypto_csv.write.jdbc(\n",
    "    url=jdbc_url,\n",
    "    table=\"gold_schema.Dim_CryptoSupply\",\n",
    "    mode=\"append\",\n",
    "    properties=connection_properties\n",
    ")\n"
   ]
  },
  {
   "cell_type": "code",
   "execution_count": 0,
   "metadata": {
    "application/vnd.databricks.v1+cell": {
     "cellMetadata": {
      "byteLimit": 2048000,
      "rowLimit": 10000
     },
     "inputWidgets": {},
     "nuid": "4650b72f-6dd6-4caf-842b-de40861775e4",
     "showTitle": false,
     "tableResultSettingsMap": {},
     "title": ""
    }
   },
   "outputs": [],
   "source": [
    "from pyspark.sql import SparkSession\n",
    "from pyspark.sql.functions import col\n",
    "\n",
    "# Initialize Spark session\n",
    "spark = SparkSession.builder.getOrCreate()\n",
    "\n",
    "# Step 1: Load the Delta table into a DataFrame\n",
    "df_crypto_dim = spark.read.format(\"delta\").table(\"ctl_krypto.gold_schema.Dim_Crypto\")\n",
    "\n",
    "# Step 2: Define the CSV output path\n",
    "csv_path_crypto_dim = \"/mnt/output/Dim_Crypto_csv\"\n",
    "\n",
    "# Step 3: Write DataFrame to CSV with header, overwrite mode\n",
    "df_crypto_dim.write.mode(\"overwrite\").option(\"header\", \"true\").csv(csv_path_crypto_dim)\n",
    "\n",
    "# Step 4: Read the CSV back into a new DataFrame\n",
    "df_crypto_dim_csv = spark.read.option(\"header\", \"true\").csv(csv_path_crypto_dim)\n",
    "\n",
    "# Step 5: JDBC connection parameters\n",
    "jdbc_url = \"jdbc:sqlserver:....\"\n",
    "connection_properties = {\n",
    "    \"user\": \"\",\n",
    "    \"password\": \"\",\n",
    "    \"driver\": \"com.microsoft.sqlserver.jdbc.SQLServerDriver\"\n",
    "}\n",
    "\n",
    "# Step 6: Write to Azure SQL (append mode)\n",
    "df_crypto_dim_csv.write.jdbc(\n",
    "    url=jdbc_url,\n",
    "    table=\"gold_schema.Dim_Crypto\",\n",
    "    mode=\"append\",\n",
    "    properties=connection_properties\n",
    ")\n"
   ]
  },
  {
   "cell_type": "code",
   "execution_count": 0,
   "metadata": {
    "application/vnd.databricks.v1+cell": {
     "cellMetadata": {
      "byteLimit": 2048000,
      "rowLimit": 10000
     },
     "inputWidgets": {},
     "nuid": "95436aa7-dce4-42a8-a165-1ca1a4fcf004",
     "showTitle": false,
     "tableResultSettingsMap": {},
     "title": ""
    }
   },
   "outputs": [],
   "source": [
    "from pyspark.sql import SparkSession\n",
    "\n",
    "# Initialize Spark session\n",
    "spark = SparkSession.builder.getOrCreate()\n",
    "\n",
    "# Load the Delta table into a DataFrame\n",
    "df_fact_market = spark.read.format(\"delta\").table(\"ctl_krypto.gold_schema.Fact_Market_Data\")\n",
    "\n",
    "# Drop fact_id so SQL Server can auto-generate it\n",
    "df_fact_market_no_id = df_fact_market.drop(\"fact_id\")\n",
    "\n",
    "# Define JDBC connection parameters\n",
    "jdbc_url = \"jdbc:sqlserver://....\"\n",
    "connection_properties = {\n",
    "    \"user\": \"\",\n",
    "    \"password\": \"\",\n",
    "    \"driver\": \"com.microsoft.sqlserver.jdbc.SQLServerDriver\"\n",
    "}\n",
    "\n",
    "# Write to SQL Server (append mode)\n",
    "df_fact_market_no_id.write.jdbc(\n",
    "    url=jdbc_url,\n",
    "    table=\"gold_schema.Fact_Market_Data\",\n",
    "    mode=\"append\",\n",
    "    properties=connection_properties\n",
    ")\n"
   ]
  }
 ],
 "metadata": {
  "application/vnd.databricks.v1+notebook": {
   "computePreferences": null,
   "dashboards": [],
   "environmentMetadata": {
    "base_environment": "",
    "environment_version": "2"
   },
   "inputWidgetPreferences": null,
   "language": "python",
   "notebookMetadata": {
    "mostRecentlyExecutedCommandWithImplicitDF": {
     "commandId": 8351736462179399,
     "dataframes": [
      "_sqldf"
     ]
    },
    "pythonIndentUnit": 4
   },
   "notebookName": "gold_layer",
   "widgets": {}
  },
  "language_info": {
   "name": "python"
  }
 },
 "nbformat": 4,
 "nbformat_minor": 0
}
